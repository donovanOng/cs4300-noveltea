{
 "cells": [
  {
   "cell_type": "markdown",
   "metadata": {},
   "source": [
    "# Setup and imports"
   ]
  },
  {
   "cell_type": "code",
   "execution_count": 1,
   "metadata": {},
   "outputs": [
    {
     "name": "stdout",
     "output_type": "stream",
     "text": [
      "[nltk_data] Downloading package averaged_perceptron_tagger to\n",
      "[nltk_data]     /Users/donovan/nltk_data...\n",
      "[nltk_data]   Package averaged_perceptron_tagger is already up-to-\n",
      "[nltk_data]       date!\n",
      "[nltk_data] Downloading package punkt to /Users/donovan/nltk_data...\n",
      "[nltk_data]   Package punkt is already up-to-date!\n"
     ]
    },
    {
     "data": {
      "text/plain": [
       "True"
      ]
     },
     "execution_count": 1,
     "metadata": {},
     "output_type": "execute_result"
    }
   ],
   "source": [
    "import pandas as pd\n",
    "import numpy as np\n",
    "import random\n",
    "from collections import Counter\n",
    "from __future__ import print_function\n",
    "from sklearn.feature_extraction.text import TfidfVectorizer\n",
    "from sklearn.feature_extraction.text import CountVectorizer\n",
    "from numpy import linalg as LA\n",
    "import json\n",
    "%matplotlib inline\n",
    "import matplotlib.pyplot as plt\n",
    "\n",
    "\n",
    "import nltk\n",
    "import re\n",
    "from nltk import pos_tag, word_tokenize\n",
    "\n",
    "nltk.download('averaged_perceptron_tagger')\n",
    "nltk.download('punkt')"
   ]
  },
  {
   "cell_type": "code",
   "execution_count": 2,
   "metadata": {},
   "outputs": [],
   "source": [
    "from html.parser import HTMLParser\n",
    "\n",
    "class MLStripper(HTMLParser):\n",
    "    def __init__(self):\n",
    "        self.reset()\n",
    "        self.strict = False\n",
    "        self.convert_charrefs= True\n",
    "        self.fed = []\n",
    "    def handle_data(self, d):\n",
    "        self.fed.append(d)\n",
    "    def get_data(self):\n",
    "        return ''.join(self.fed)\n",
    "\n",
    "def strip_tags(html):\n",
    "    s = MLStripper()\n",
    "    s.feed(html)\n",
    "    return s.get_data()"
   ]
  },
  {
   "cell_type": "markdown",
   "metadata": {},
   "source": [
    "# Tea reviews"
   ]
  },
  {
   "cell_type": "code",
   "execution_count": 3,
   "metadata": {},
   "outputs": [],
   "source": [
    "tea_df = pd.read_csv(\"clean_data_no_reviews.csv\")\n",
    "tea_ids = set(tea_df['id'])"
   ]
  },
  {
   "cell_type": "code",
   "execution_count": 4,
   "metadata": {},
   "outputs": [],
   "source": [
    "def get_flavors(tId):\n",
    "    return list(tea_df[tea_df['id'] == tId]['flavors'])[0]"
   ]
  },
  {
   "cell_type": "code",
   "execution_count": 5,
   "metadata": {},
   "outputs": [],
   "source": [
    "unfiltered_tea_revs = pd.read_csv(\"reviews.csv\")\n",
    "unfiltered_tea_revs['description'] = unfiltered_tea_revs['description'].apply(strip_tags)\n",
    "tea_revs = unfiltered_tea_revs[unfiltered_tea_revs.id.isin(tea_ids)]"
   ]
  },
  {
   "cell_type": "code",
   "execution_count": 6,
   "metadata": {},
   "outputs": [],
   "source": [
    "sorted_revs = tea_revs.sort_values(by=[\"id\", \"likes\"], ascending=[True, False])"
   ]
  },
  {
   "cell_type": "code",
   "execution_count": 7,
   "metadata": {},
   "outputs": [],
   "source": [
    "top_sorted_revs = sorted_revs.groupby('id').head(3)"
   ]
  },
  {
   "cell_type": "code",
   "execution_count": 8,
   "metadata": {},
   "outputs": [],
   "source": [
    "top_sorted_revs.to_csv(\"clean_reviews.csv\", encoding='utf-8', index=False)"
   ]
  },
  {
   "cell_type": "code",
   "execution_count": 9,
   "metadata": {},
   "outputs": [],
   "source": [
    "def review_lookup(tea_id):\n",
    "    return tea_revs[tea_revs['id'] == tea_id].sort_values(by='likes',ascending=False)"
   ]
  },
  {
   "cell_type": "code",
   "execution_count": 10,
   "metadata": {},
   "outputs": [],
   "source": [
    "def reviews_by_id(tea_id):\n",
    "    #return list(zip(review_lookup(tea_id)['description'].tolist(), review_lookup(tea_id)['ratingValue'].tolist()))\n",
    "    return review_lookup(tea_id)['description'].tolist()"
   ]
  },
  {
   "cell_type": "code",
   "execution_count": 11,
   "metadata": {},
   "outputs": [],
   "source": [
    "def top_reviews_by_id(tea_id):\n",
    "    return reviews_by_id(tea_id)[:3]"
   ]
  },
  {
   "cell_type": "code",
   "execution_count": 12,
   "metadata": {},
   "outputs": [],
   "source": [
    "def build_top_reviews():\n",
    "    review_dict = {}\n",
    "    for tea_id in tea_ids:\n",
    "        review_dict[tea_id] = top_reviews_by_id(tea_id)\n",
    "    return review_dict"
   ]
  },
  {
   "cell_type": "code",
   "execution_count": 13,
   "metadata": {},
   "outputs": [],
   "source": [
    "reviews_dict = build_top_reviews()"
   ]
  },
  {
   "cell_type": "markdown",
   "metadata": {},
   "source": [
    "# Tokenization and descriptors"
   ]
  },
  {
   "cell_type": "code",
   "execution_count": 14,
   "metadata": {},
   "outputs": [],
   "source": [
    "tea_descriptions = tea_revs['description']\n",
    "descriptions = []\n",
    "i = 0\n",
    "for desc in tea_descriptions:\n",
    "    descriptions.append(desc)"
   ]
  },
  {
   "cell_type": "code",
   "execution_count": 15,
   "metadata": {},
   "outputs": [],
   "source": [
    "def get_adj(tea_id):\n",
    "    return list(set([t[0] for t in pos_tag(word_tokenize(\" \".join(reviews_dict[tea_id]))) if t[1] == \"JJ\"]))"
   ]
  },
  {
   "cell_type": "code",
   "execution_count": 16,
   "metadata": {},
   "outputs": [],
   "source": [
    "def get_adjectives(words):\n",
    "    return set([t[0] for t in pos_tag(words) if t[1] == \"JJ\"])"
   ]
  },
  {
   "cell_type": "code",
   "execution_count": 17,
   "metadata": {},
   "outputs": [],
   "source": [
    "def build_vectorizer(max_features, stop_words, max_df=0.4, min_df=10, norm='l2'):\n",
    "    \"\"\"Returns a TfidfVectorizer object\n",
    "    \n",
    "    Params: {max_features: Integer,\n",
    "             max_df: Float,\n",
    "             min_df: Float,\n",
    "             norm: String,\n",
    "             stop_words: String}\n",
    "    Returns: TfidfVectorizer\n",
    "    \"\"\"\n",
    "    v = TfidfVectorizer(stop_words=stop_words, max_df=max_df, min_df=min_df, \n",
    "                        max_features=max_features, norm=norm, use_idf=True, smooth_idf=True)\n",
    "    return v"
   ]
  },
  {
   "cell_type": "code",
   "execution_count": 18,
   "metadata": {},
   "outputs": [],
   "source": [
    "n_feats = 20000\n",
    "tfidf_vec = build_vectorizer(n_feats, \"english\", min_df=70)\n",
    "doc_by_vocab = tfidf_vec.fit_transform(d for d in descriptions).toarray()\n",
    "index_to_vocab = {i:v for i, v in enumerate(tfidf_vec.get_feature_names())}\n",
    "vocab = {v for i, v in enumerate(tfidf_vec.get_feature_names())}"
   ]
  },
  {
   "cell_type": "code",
   "execution_count": 19,
   "metadata": {},
   "outputs": [],
   "source": [
    "adjectives = get_adjectives(vocab)\n",
    "remove = [\"hot\", \"cold\", \"good\", \"bad\", \"don\", \n",
    "          \"nice\", \"little\", \"steep\",  \"sweet\", \n",
    "          \"leaf\", \"second\", \"shop\", \"smelled\",\n",
    "          \"sugar\",  \"loose\", \"new\", \"sure\", \n",
    "          \"huge\", \"able\", \"great\", \"wasn\", \n",
    "          \"finish\", \"gift\",\n",
    "          \"equivalent\", \"flavour\",\n",
    "          \"imo\",  \"previous\", \"small\", \"old\", \"doesn\",\n",
    "          \"interested\", \"isn\", \"red\", \"long\", \"attribute\"]\n",
    "for r in remove:\n",
    "    if r in adjectives:\n",
    "        adjectives.remove(r)"
   ]
  },
  {
   "cell_type": "code",
   "execution_count": 20,
   "metadata": {},
   "outputs": [
    {
     "data": {
      "text/plain": [
       "1187"
      ]
     },
     "execution_count": 20,
     "metadata": {},
     "output_type": "execute_result"
    }
   ],
   "source": [
    "len(adjectives)"
   ]
  },
  {
   "cell_type": "code",
   "execution_count": 21,
   "metadata": {},
   "outputs": [],
   "source": [
    "adjectives = [adj for adj in adjectives if len(adj) > 2]"
   ]
  },
  {
   "cell_type": "code",
   "execution_count": 22,
   "metadata": {},
   "outputs": [
    {
     "data": {
      "text/plain": [
       "1160"
      ]
     },
     "execution_count": 22,
     "metadata": {},
     "output_type": "execute_result"
    }
   ],
   "source": [
    "len(adjectives)"
   ]
  },
  {
   "cell_type": "code",
   "execution_count": 23,
   "metadata": {},
   "outputs": [],
   "source": [
    "def get_top_adj(id):\n",
    "    toks = []\n",
    "    for rev in reviews_by_id(id):\n",
    "        toks.extend(word_tokenize(rev))\n",
    "    return [t.capitalize() for (t,n) in Counter([w for w in toks if w in adjectives]).most_common(5)]\n",
    "def get_top_adj_n(id, n):\n",
    "    toks = []\n",
    "    for rev in reviews_by_id(id):\n",
    "        toks.extend(word_tokenize(rev))\n",
    "    return [t.capitalize() for (t,n) in Counter([w for w in toks if w in adjectives]).most_common(n)]"
   ]
  },
  {
   "cell_type": "code",
   "execution_count": 24,
   "metadata": {},
   "outputs": [],
   "source": [
    "def format_string(l):\n",
    "    s = \"\"\n",
    "    for w in l:\n",
    "        s += w + \", \"\n",
    "    return s[:-2]"
   ]
  },
  {
   "cell_type": "markdown",
   "metadata": {},
   "source": [
    "# Formatting Data"
   ]
  },
  {
   "cell_type": "code",
   "execution_count": 25,
   "metadata": {},
   "outputs": [],
   "source": [
    "ids = list(reviews_dict.keys())"
   ]
  },
  {
   "cell_type": "code",
   "execution_count": 26,
   "metadata": {},
   "outputs": [],
   "source": [
    "review1 = [(\"\" if len(reviews_dict[tid]) < 1 else reviews_dict[tid][0]) for tid in ids]"
   ]
  },
  {
   "cell_type": "code",
   "execution_count": 27,
   "metadata": {},
   "outputs": [],
   "source": [
    "review2 = [(\"\" if len(reviews_dict[tid]) < 2 else reviews_dict[tid][1]) for tid in ids]"
   ]
  },
  {
   "cell_type": "code",
   "execution_count": 28,
   "metadata": {},
   "outputs": [],
   "source": [
    "review3 = [(\"\" if len(reviews_dict[tid]) < 3 else reviews_dict[tid][2]) for tid in ids]"
   ]
  },
  {
   "cell_type": "code",
   "execution_count": 29,
   "metadata": {},
   "outputs": [],
   "source": [
    "features_flavors = [get_flavors(tid) + \", \" + format_string(get_top_adj_n(tid, 5)) for tid in ids]"
   ]
  },
  {
   "cell_type": "code",
   "execution_count": 30,
   "metadata": {},
   "outputs": [],
   "source": [
    "features = [format_string(get_top_adj(tid)) for tid in ids]"
   ]
  },
  {
   "cell_type": "code",
   "execution_count": 31,
   "metadata": {},
   "outputs": [
    {
     "data": {
      "text/plain": [
       "['Sour, Bag, Strong, Herbal, Acid',\n",
       " 'Black, Bag, Grey, Strong, Favorite',\n",
       " 'Green, Bag, Smooth, Strong, Bags',\n",
       " 'Strong, Sour, Bag, Herbal, Favorite',\n",
       " 'Black, Strong, Sweetness, Floral, Delicious',\n",
       " 'Floral, Butter, Oolong, Cucumber, Light',\n",
       " 'Floral, Oolong, Creamy, Green, Aroma',\n",
       " 'Floral, Oolong, Soft, Green, Light',\n",
       " 'Floral, Green, Oolong, Scent, Deep',\n",
       " 'Black, Specific, Pleasant, Overall, Brew']"
      ]
     },
     "execution_count": 31,
     "metadata": {},
     "output_type": "execute_result"
    }
   ],
   "source": [
    "features[:10]"
   ]
  },
  {
   "cell_type": "code",
   "execution_count": 32,
   "metadata": {},
   "outputs": [],
   "source": [
    "review_data = {'id': ids, \n",
    "               'review1': review1, 'review2': review2, 'review3': review3, \n",
    "               'features': features, \n",
    "               'features_flavors': features_flavors}\n",
    "review_data_df = pd.DataFrame(data=review_data)"
   ]
  },
  {
   "cell_type": "code",
   "execution_count": 33,
   "metadata": {
    "scrolled": false
   },
   "outputs": [],
   "source": [
    "review_data_df.to_csv(\"features_data.csv\", encoding='utf-8', index=False)"
   ]
  },
  {
   "cell_type": "code",
   "execution_count": 34,
   "metadata": {},
   "outputs": [],
   "source": [
    "joined = tea_df.set_index('id').join(review_data_df.set_index('id'))"
   ]
  },
  {
   "cell_type": "code",
   "execution_count": 35,
   "metadata": {},
   "outputs": [],
   "source": [
    "tea_types = [\"Black\", \"Chai\", \"Flowering\", \"Food\", \"Fruit\", \"Green\", \"Guayusa\", \n",
    "             \"Herbal\", \"Honeybush\", \"Matcha\", \"Oolong\", \"Pu-Erh\", \"Rooibos\", \"White\", \"Yellow\", \"Yerba Maté\"]"
   ]
  },
  {
   "cell_type": "code",
   "execution_count": 36,
   "metadata": {},
   "outputs": [],
   "source": [
    "def add_tea_types(tea):\n",
    "    tea_type = tea.split(\" \")\n",
    "    tea_type = [t.title() for t in tea_type]\n",
    "    for a in tea_type:\n",
    "        if a in tea_types:\n",
    "            return \", \" + a + \" Tea\""
   ]
  },
  {
   "cell_type": "code",
   "execution_count": 37,
   "metadata": {},
   "outputs": [],
   "source": [
    "joined['features_flavors'] = joined['features_flavors']  + joined['teaType'].apply(add_tea_types)"
   ]
  },
  {
   "cell_type": "code",
   "execution_count": 38,
   "metadata": {},
   "outputs": [
    {
     "data": {
      "text/plain": [
       "id\n",
       "65303    Floral, Rainforest, Honeysuckle, Orchids, Pepp...\n",
       "43095    Dark Chocolate, Chocolate, Dates, Malt, Orchid...\n",
       "78801    Honey, Lemon, Nuts, Flowers, Lemongrass, Stunn...\n",
       "48058    Cocoa, Dark Chocolate, Malt, Vanilla, Apple, A...\n",
       "32444    Sweet, Mineral, Nutty, Roasted, Salty, Butter,...\n",
       "22442    Apricot, Creamy, Mango, Milk, Smooth, Stonefru...\n",
       "78800    Broccoli, Cut grass, Nutty, Olives, Freshly Cu...\n",
       "20060    Citrus Zest, Cream, Toasted Rice, Tobacco, Sug...\n",
       "28779    Tea, Chocolate, Cream, Cocoa, Fruity, Malt, Br...\n",
       "41785    Chocolate, Cocoa, Malt, Melon, Plums, Sweet Po...\n",
       "21629    Apricot, Dust, Flowers, Honey, Peach, Chocolat...\n",
       "40986    Orange, Chocolate, Orange Zest, Creamy, Real, ...\n",
       "35881    Chocolate, Cocoa, Nutty, Pastries, Roasted, To...\n",
       "8188     Honey Dew, Green Melons, Honeydew, Melon, Roas...\n",
       "48327    Cinnamon, Nutmeg, Spices, Stonefruits, Candy, ...\n",
       "38774    Brown Sugar, Cinnamon, Molasses, Mushrooms, Va...\n",
       "19426    Flowers, Grapes, Vegetal, White, Creamy, Light...\n",
       "27861    Flowers, Lettuce, Camphor, Honeysuckle, Olive ...\n",
       "32867    Alcohol, Anise, Apple, Black Currant, Blackber...\n",
       "48691    Butterscotch, Creamy, Flowers, Fruit Tree Flow...\n",
       "41171    Coconut, Cream, Creamy, Fruity, Malt, Milk, Sm...\n",
       "29244    Tobacco, Fruity, Smoke, Sweet, Wood, Apricot, ...\n",
       "28778    Caramel, Chocolate, Cream, Floral, Fruity, Gra...\n",
       "22253    Cantaloupe, Cream, Earth, Hay, Honeydew, Melon...\n",
       "45843    Butter, Floral, Honeysuckle, Sweet, Floral, Gr...\n",
       "4079     Apricot, Cream, Dates, Honey, Smoke, Rich, Cre...\n",
       "30210    Butter, Maple, Maple Syrup, Cream, Creamy, Flo...\n",
       "16603    Autumn Leaf Pile, Clay, Cocoa, Honey, Malt, Mu...\n",
       "49835    Cocoa, Cream, Mineral, Moss, Forest Floor, Cho...\n",
       "40346    Apricot, Caramel, Chocolate, Carrot, Cocoa, Pe...\n",
       "                               ...                        \n",
       "8331     Black Pepper, Chai, Black, Decaf, Bag, Accepta...\n",
       "31246    Cardamon, Spices, Chai, Cardamom, Cinnamon, Sa...\n",
       "1197     Cherry, Rose, Bitter, Medicinal, White, Cough,...\n",
       "69700    Artificial, Cherry, Dust, Medicinal, Black, Co...\n",
       "37446    Fruity, Spicy, Citrus Zest, Wrong, Palate, Sha...\n",
       "37656    Earth, Fishy, Brew, Haha, Wouldn, Western, Ave...\n",
       "46729    Floral, Grass, Chrysanthemum, Organic, Overwhe...\n",
       "9187     Carrot, Honey, Malt, Black, Green, Bags, Astri...\n",
       "17804    Bitter, Brown Toast, Cinnamon, Clove, Grain, R...\n",
       "74874    Coconut, Peanut, Cardboard, Dirt, Mud, Soap, S...\n",
       "70416    Ash, Burnt Sugar, Cocoa, Dark Bittersweet, Dir...\n",
       "208      Pineapple, Bitter, Rose, Fruit Tree Flowers, W...\n",
       "46747    Cinnamon, Raisins, Sample, Brew, Popcorn, Weir...\n",
       "2        Artificial, Astringent, Ginger, Hibiscus, Oran...\n",
       "21976    Citrus, Honey, Medicinal, Menthol, Vegetal, Gr...\n",
       "56340    Artificial, Cinnamon, Bitter, Sweet, Apple, Ca...\n",
       "4879     Natural Pumpkin Spice Flavor, Pumpkin, Smooth,...\n",
       "17455    Berries, Fruity, Sour, Sweet, Berry, Fruit Pun...\n",
       "39373    Chocolate, Milk, Cocoa, Weak, Brew, Delicious,...\n",
       "33436    Astringent, Cloves, Drying, Orange, Plums, Red...\n",
       "14194    Bitter, Dirt, Earth, Nutty, Wood, Dust, Jasmin...\n",
       "5416     Lime, Green, Strong, Bag, Wonderful, Dangerous...\n",
       "3747     Ash, Pine, Smoked, Wood, Smoked, Unique, Unusu...\n",
       "34492    Creamy, Earth, Fishy, Fruity, Irish Cream, Tro...\n",
       "438      Astringent, Bitter, Herbs, Medicinal, Wood, Te...\n",
       "16051                                                  NaN\n",
       "6455     Floral, Forest Floor, Herbaceous, Plant Stems,...\n",
       "792      Caramel, Smooth, Shortbread, Goodness, Funny, ...\n",
       "52435    Hay, Smoke, Brown Sugar, Burnt Food, Burnt Sug...\n",
       "206      Grass, Tea, Pear, Sweet, Flowers, Pear, White,...\n",
       "Name: features_flavors, Length: 15641, dtype: object"
      ]
     },
     "execution_count": 38,
     "metadata": {},
     "output_type": "execute_result"
    }
   ],
   "source": [
    "joined['features_flavors']"
   ]
  },
  {
   "cell_type": "code",
   "execution_count": 39,
   "metadata": {},
   "outputs": [],
   "source": [
    "joined.to_csv(\"complete.csv\", encoding='utf-8')"
   ]
  }
 ],
 "metadata": {
  "kernelspec": {
   "display_name": "Python 3",
   "language": "python",
   "name": "python3"
  },
  "language_info": {
   "codemirror_mode": {
    "name": "ipython",
    "version": 3
   },
   "file_extension": ".py",
   "mimetype": "text/x-python",
   "name": "python",
   "nbconvert_exporter": "python",
   "pygments_lexer": "ipython3",
   "version": "3.6.5"
  }
 },
 "nbformat": 4,
 "nbformat_minor": 2
}
