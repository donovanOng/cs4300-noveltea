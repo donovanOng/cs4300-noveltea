{
 "cells": [
  {
   "cell_type": "code",
   "execution_count": 1,
   "metadata": {},
   "outputs": [],
   "source": [
    "import pandas\n",
    "import numpy as np\n",
    "\n",
    "%matplotlib inline"
   ]
  },
  {
   "cell_type": "code",
   "execution_count": 2,
   "metadata": {},
   "outputs": [],
   "source": [
    "raw_tea_df = pandas.read_csv(\"./scraper/tea.csv\")"
   ]
  },
  {
   "cell_type": "code",
   "execution_count": 3,
   "metadata": {},
   "outputs": [
    {
     "data": {
      "text/html": [
       "<div>\n",
       "<style scoped>\n",
       "    .dataframe tbody tr th:only-of-type {\n",
       "        vertical-align: middle;\n",
       "    }\n",
       "\n",
       "    .dataframe tbody tr th {\n",
       "        vertical-align: top;\n",
       "    }\n",
       "\n",
       "    .dataframe thead th {\n",
       "        text-align: right;\n",
       "    }\n",
       "</style>\n",
       "<table border=\"1\" class=\"dataframe\">\n",
       "  <thead>\n",
       "    <tr style=\"text-align: right;\">\n",
       "      <th></th>\n",
       "      <th>name</th>\n",
       "      <th>brand</th>\n",
       "      <th>reviewCount</th>\n",
       "      <th>ratingValue</th>\n",
       "      <th>teaType</th>\n",
       "      <th>ingredients</th>\n",
       "      <th>flavors</th>\n",
       "      <th>soldIn</th>\n",
       "      <th>caffeine</th>\n",
       "      <th>certification</th>\n",
       "      <th>wantIt</th>\n",
       "      <th>ownIt</th>\n",
       "      <th>imageUrl</th>\n",
       "    </tr>\n",
       "    <tr>\n",
       "      <th>id</th>\n",
       "      <th></th>\n",
       "      <th></th>\n",
       "      <th></th>\n",
       "      <th></th>\n",
       "      <th></th>\n",
       "      <th></th>\n",
       "      <th></th>\n",
       "      <th></th>\n",
       "      <th></th>\n",
       "      <th></th>\n",
       "      <th></th>\n",
       "      <th></th>\n",
       "      <th></th>\n",
       "    </tr>\n",
       "  </thead>\n",
       "  <tbody>\n",
       "    <tr>\n",
       "      <th>65303</th>\n",
       "      <td>2015 Last Thoughts</td>\n",
       "      <td>White 2 Tea</td>\n",
       "      <td>16</td>\n",
       "      <td>89</td>\n",
       "      <td>Pu-erh Tea</td>\n",
       "      <td>Not available</td>\n",
       "      <td>Floral, Rainforest, Honeysuckle, Orchids, Pepp...</td>\n",
       "      <td>Not available</td>\n",
       "      <td>Not available</td>\n",
       "      <td>Not available</td>\n",
       "      <td>51</td>\n",
       "      <td>20</td>\n",
       "      <td>https://media.steepster.com/api/file/kL8dCqJrT...</td>\n",
       "    </tr>\n",
       "    <tr>\n",
       "      <th>43095</th>\n",
       "      <td>Golden Orchid</td>\n",
       "      <td>Whispering Pines Tea Company</td>\n",
       "      <td>155</td>\n",
       "      <td>89</td>\n",
       "      <td>Black Tea</td>\n",
       "      <td>Fujian Xiao Zhong, Vanilla Bean, Yunnan Dian Hong</td>\n",
       "      <td>Dark Chocolate, Chocolate, Dates, Malt, Orchid...</td>\n",
       "      <td>Loose Leaf</td>\n",
       "      <td>High</td>\n",
       "      <td>Not available</td>\n",
       "      <td>315</td>\n",
       "      <td>236</td>\n",
       "      <td>https://media.steepster.com/api/file/exT0OHWdT...</td>\n",
       "    </tr>\n",
       "    <tr>\n",
       "      <th>78801</th>\n",
       "      <td>The Silver Moonlight</td>\n",
       "      <td>Chai &amp; Mighty</td>\n",
       "      <td>6</td>\n",
       "      <td>89</td>\n",
       "      <td>White Tea</td>\n",
       "      <td>White Tea Leaves</td>\n",
       "      <td>Honey, Lemon, Nuts, Flowers, Lemongrass</td>\n",
       "      <td>Loose Leaf</td>\n",
       "      <td>Low</td>\n",
       "      <td>Fair Trade, Organic, Vegan</td>\n",
       "      <td>3</td>\n",
       "      <td>4</td>\n",
       "      <td>https://media.steepster.com/api/file/cmNMAbwSn...</td>\n",
       "    </tr>\n",
       "    <tr>\n",
       "      <th>48058</th>\n",
       "      <td>Cocoa Amore</td>\n",
       "      <td>Whispering Pines Tea Company</td>\n",
       "      <td>85</td>\n",
       "      <td>89</td>\n",
       "      <td>Black Tea</td>\n",
       "      <td>Chinese Black Tea, Tahitian Vanilla</td>\n",
       "      <td>Cocoa, Dark Chocolate, Malt, Vanilla, Apple, A...</td>\n",
       "      <td>Loose Leaf</td>\n",
       "      <td>High</td>\n",
       "      <td>Not available</td>\n",
       "      <td>227</td>\n",
       "      <td>156</td>\n",
       "      <td>https://media.steepster.com/api/file/0vAf5X4Si...</td>\n",
       "    </tr>\n",
       "    <tr>\n",
       "      <th>32444</th>\n",
       "      <td>Laoshan Bilochun Green</td>\n",
       "      <td>Verdant Tea</td>\n",
       "      <td>19</td>\n",
       "      <td>89</td>\n",
       "      <td>Green Tea</td>\n",
       "      <td>Not available</td>\n",
       "      <td>Sweet, Mineral, Nutty, Roasted, Salty, Butter,...</td>\n",
       "      <td>Not available</td>\n",
       "      <td>Not available</td>\n",
       "      <td>Not available</td>\n",
       "      <td>11</td>\n",
       "      <td>21</td>\n",
       "      <td>https://media.steepster.com/api/file/F0AJQO5DT...</td>\n",
       "    </tr>\n",
       "  </tbody>\n",
       "</table>\n",
       "</div>"
      ],
      "text/plain": [
       "                         name                         brand  reviewCount  \\\n",
       "id                                                                         \n",
       "65303      2015 Last Thoughts                   White 2 Tea           16   \n",
       "43095           Golden Orchid  Whispering Pines Tea Company          155   \n",
       "78801    The Silver Moonlight                 Chai & Mighty            6   \n",
       "48058             Cocoa Amore  Whispering Pines Tea Company           85   \n",
       "32444  Laoshan Bilochun Green                   Verdant Tea           19   \n",
       "\n",
       "      ratingValue     teaType  \\\n",
       "id                              \n",
       "65303          89  Pu-erh Tea   \n",
       "43095          89   Black Tea   \n",
       "78801          89   White Tea   \n",
       "48058          89   Black Tea   \n",
       "32444          89   Green Tea   \n",
       "\n",
       "                                             ingredients  \\\n",
       "id                                                         \n",
       "65303                                      Not available   \n",
       "43095  Fujian Xiao Zhong, Vanilla Bean, Yunnan Dian Hong   \n",
       "78801                                   White Tea Leaves   \n",
       "48058                Chinese Black Tea, Tahitian Vanilla   \n",
       "32444                                      Not available   \n",
       "\n",
       "                                                 flavors         soldIn  \\\n",
       "id                                                                        \n",
       "65303  Floral, Rainforest, Honeysuckle, Orchids, Pepp...  Not available   \n",
       "43095  Dark Chocolate, Chocolate, Dates, Malt, Orchid...     Loose Leaf   \n",
       "78801            Honey, Lemon, Nuts, Flowers, Lemongrass     Loose Leaf   \n",
       "48058  Cocoa, Dark Chocolate, Malt, Vanilla, Apple, A...     Loose Leaf   \n",
       "32444  Sweet, Mineral, Nutty, Roasted, Salty, Butter,...  Not available   \n",
       "\n",
       "            caffeine               certification  wantIt  ownIt  \\\n",
       "id                                                                \n",
       "65303  Not available               Not available      51     20   \n",
       "43095           High               Not available     315    236   \n",
       "78801            Low  Fair Trade, Organic, Vegan       3      4   \n",
       "48058           High               Not available     227    156   \n",
       "32444  Not available               Not available      11     21   \n",
       "\n",
       "                                                imageUrl  \n",
       "id                                                        \n",
       "65303  https://media.steepster.com/api/file/kL8dCqJrT...  \n",
       "43095  https://media.steepster.com/api/file/exT0OHWdT...  \n",
       "78801  https://media.steepster.com/api/file/cmNMAbwSn...  \n",
       "48058  https://media.steepster.com/api/file/0vAf5X4Si...  \n",
       "32444  https://media.steepster.com/api/file/F0AJQO5DT...  "
      ]
     },
     "execution_count": 3,
     "metadata": {},
     "output_type": "execute_result"
    }
   ],
   "source": [
    "tea_df = raw_tea_df.drop(['url'], axis=1)\n",
    "tea_df = tea_df.set_index('id')\n",
    "tea_df.head()"
   ]
  },
  {
   "cell_type": "markdown",
   "metadata": {},
   "source": [
    "**Fix ratingValue**"
   ]
  },
  {
   "cell_type": "code",
   "execution_count": 4,
   "metadata": {},
   "outputs": [],
   "source": [
    "tea_df[tea_df.ratingValue == \"--\"] = np.NaN\n",
    "tea_df.ratingValue = tea_df.ratingValue.astype(float)"
   ]
  },
  {
   "cell_type": "markdown",
   "metadata": {},
   "source": [
    "**Fix flavors**"
   ]
  },
  {
   "cell_type": "code",
   "execution_count": 5,
   "metadata": {},
   "outputs": [],
   "source": [
    "tea_df[tea_df.flavors == \"Not available\"] = np.NaN"
   ]
  },
  {
   "cell_type": "markdown",
   "metadata": {},
   "source": [
    "**Remove missing values**"
   ]
  },
  {
   "cell_type": "code",
   "execution_count": 6,
   "metadata": {},
   "outputs": [
    {
     "name": "stdout",
     "output_type": "stream",
     "text": [
      "Number of missing values:\n"
     ]
    },
    {
     "data": {
      "text/plain": [
       "name             52574\n",
       "brand            52574\n",
       "reviewCount      52574\n",
       "ratingValue      52574\n",
       "teaType          52574\n",
       "ingredients      52574\n",
       "flavors          52574\n",
       "soldIn           52574\n",
       "caffeine         52574\n",
       "certification    52574\n",
       "wantIt           52574\n",
       "ownIt            52574\n",
       "imageUrl         52574\n",
       "dtype: int64"
      ]
     },
     "execution_count": 6,
     "metadata": {},
     "output_type": "execute_result"
    }
   ],
   "source": [
    "print(\"Number of missing values:\")\n",
    "tea_df.isnull().sum()"
   ]
  },
  {
   "cell_type": "code",
   "execution_count": 7,
   "metadata": {},
   "outputs": [
    {
     "name": "stdout",
     "output_type": "stream",
     "text": [
      "Number of missing values:\n"
     ]
    },
    {
     "data": {
      "text/plain": [
       "name             0\n",
       "brand            0\n",
       "reviewCount      0\n",
       "ratingValue      0\n",
       "teaType          0\n",
       "ingredients      0\n",
       "flavors          0\n",
       "soldIn           0\n",
       "caffeine         0\n",
       "certification    0\n",
       "wantIt           0\n",
       "ownIt            0\n",
       "imageUrl         0\n",
       "dtype: int64"
      ]
     },
     "execution_count": 7,
     "metadata": {},
     "output_type": "execute_result"
    }
   ],
   "source": [
    "tea_df = tea_df.dropna(axis=0, how='all')\n",
    "print(\"Number of missing values:\")\n",
    "tea_df.isnull().sum()"
   ]
  },
  {
   "cell_type": "markdown",
   "metadata": {},
   "source": [
    "**Describe data**"
   ]
  },
  {
   "cell_type": "code",
   "execution_count": 8,
   "metadata": {},
   "outputs": [
    {
     "data": {
      "text/html": [
       "<div>\n",
       "<style scoped>\n",
       "    .dataframe tbody tr th:only-of-type {\n",
       "        vertical-align: middle;\n",
       "    }\n",
       "\n",
       "    .dataframe tbody tr th {\n",
       "        vertical-align: top;\n",
       "    }\n",
       "\n",
       "    .dataframe thead th {\n",
       "        text-align: right;\n",
       "    }\n",
       "</style>\n",
       "<table border=\"1\" class=\"dataframe\">\n",
       "  <thead>\n",
       "    <tr style=\"text-align: right;\">\n",
       "      <th></th>\n",
       "      <th>reviewCount</th>\n",
       "      <th>ratingValue</th>\n",
       "      <th>wantIt</th>\n",
       "      <th>ownIt</th>\n",
       "    </tr>\n",
       "  </thead>\n",
       "  <tbody>\n",
       "    <tr>\n",
       "      <th>count</th>\n",
       "      <td>15641.000000</td>\n",
       "      <td>15641.000000</td>\n",
       "      <td>15641.000000</td>\n",
       "      <td>15641.000000</td>\n",
       "    </tr>\n",
       "    <tr>\n",
       "      <th>mean</th>\n",
       "      <td>8.716386</td>\n",
       "      <td>77.140272</td>\n",
       "      <td>3.252222</td>\n",
       "      <td>9.334697</td>\n",
       "    </tr>\n",
       "    <tr>\n",
       "      <th>std</th>\n",
       "      <td>22.517419</td>\n",
       "      <td>5.680778</td>\n",
       "      <td>11.439880</td>\n",
       "      <td>31.174744</td>\n",
       "    </tr>\n",
       "    <tr>\n",
       "      <th>min</th>\n",
       "      <td>1.000000</td>\n",
       "      <td>39.000000</td>\n",
       "      <td>0.000000</td>\n",
       "      <td>0.000000</td>\n",
       "    </tr>\n",
       "    <tr>\n",
       "      <th>25%</th>\n",
       "      <td>1.000000</td>\n",
       "      <td>75.000000</td>\n",
       "      <td>0.000000</td>\n",
       "      <td>1.000000</td>\n",
       "    </tr>\n",
       "    <tr>\n",
       "      <th>50%</th>\n",
       "      <td>2.000000</td>\n",
       "      <td>78.000000</td>\n",
       "      <td>0.000000</td>\n",
       "      <td>2.000000</td>\n",
       "    </tr>\n",
       "    <tr>\n",
       "      <th>75%</th>\n",
       "      <td>7.000000</td>\n",
       "      <td>81.000000</td>\n",
       "      <td>2.000000</td>\n",
       "      <td>6.000000</td>\n",
       "    </tr>\n",
       "    <tr>\n",
       "      <th>max</th>\n",
       "      <td>671.000000</td>\n",
       "      <td>89.000000</td>\n",
       "      <td>315.000000</td>\n",
       "      <td>979.000000</td>\n",
       "    </tr>\n",
       "  </tbody>\n",
       "</table>\n",
       "</div>"
      ],
      "text/plain": [
       "        reviewCount   ratingValue        wantIt         ownIt\n",
       "count  15641.000000  15641.000000  15641.000000  15641.000000\n",
       "mean       8.716386     77.140272      3.252222      9.334697\n",
       "std       22.517419      5.680778     11.439880     31.174744\n",
       "min        1.000000     39.000000      0.000000      0.000000\n",
       "25%        1.000000     75.000000      0.000000      1.000000\n",
       "50%        2.000000     78.000000      0.000000      2.000000\n",
       "75%        7.000000     81.000000      2.000000      6.000000\n",
       "max      671.000000     89.000000    315.000000    979.000000"
      ]
     },
     "execution_count": 8,
     "metadata": {},
     "output_type": "execute_result"
    }
   ],
   "source": [
    "tea_df.describe()"
   ]
  },
  {
   "cell_type": "code",
   "execution_count": 9,
   "metadata": {},
   "outputs": [
    {
     "data": {
      "text/html": [
       "<div>\n",
       "<style scoped>\n",
       "    .dataframe tbody tr th:only-of-type {\n",
       "        vertical-align: middle;\n",
       "    }\n",
       "\n",
       "    .dataframe tbody tr th {\n",
       "        vertical-align: top;\n",
       "    }\n",
       "\n",
       "    .dataframe thead th {\n",
       "        text-align: right;\n",
       "    }\n",
       "</style>\n",
       "<table border=\"1\" class=\"dataframe\">\n",
       "  <thead>\n",
       "    <tr style=\"text-align: right;\">\n",
       "      <th></th>\n",
       "      <th>name</th>\n",
       "      <th>brand</th>\n",
       "      <th>teaType</th>\n",
       "      <th>ingredients</th>\n",
       "      <th>flavors</th>\n",
       "      <th>soldIn</th>\n",
       "      <th>caffeine</th>\n",
       "      <th>certification</th>\n",
       "      <th>imageUrl</th>\n",
       "    </tr>\n",
       "  </thead>\n",
       "  <tbody>\n",
       "    <tr>\n",
       "      <th>count</th>\n",
       "      <td>15641</td>\n",
       "      <td>15641</td>\n",
       "      <td>15641</td>\n",
       "      <td>15641</td>\n",
       "      <td>15641</td>\n",
       "      <td>15641</td>\n",
       "      <td>15641</td>\n",
       "      <td>15641</td>\n",
       "      <td>15641</td>\n",
       "    </tr>\n",
       "    <tr>\n",
       "      <th>unique</th>\n",
       "      <td>13822</td>\n",
       "      <td>2227</td>\n",
       "      <td>231</td>\n",
       "      <td>3789</td>\n",
       "      <td>12676</td>\n",
       "      <td>16</td>\n",
       "      <td>6</td>\n",
       "      <td>16</td>\n",
       "      <td>13517</td>\n",
       "    </tr>\n",
       "    <tr>\n",
       "      <th>top</th>\n",
       "      <td>Earl Grey</td>\n",
       "      <td>Yunnan Sourcing</td>\n",
       "      <td>Black Tea</td>\n",
       "      <td>Not available</td>\n",
       "      <td>Flowers</td>\n",
       "      <td>Not available</td>\n",
       "      <td>Not available</td>\n",
       "      <td>Not available</td>\n",
       "      <td>https://media.steepster.com/api/file/anN07UThR...</td>\n",
       "    </tr>\n",
       "    <tr>\n",
       "      <th>freq</th>\n",
       "      <td>53</td>\n",
       "      <td>610</td>\n",
       "      <td>4042</td>\n",
       "      <td>8422</td>\n",
       "      <td>76</td>\n",
       "      <td>6637</td>\n",
       "      <td>10768</td>\n",
       "      <td>13559</td>\n",
       "      <td>2125</td>\n",
       "    </tr>\n",
       "  </tbody>\n",
       "</table>\n",
       "</div>"
      ],
      "text/plain": [
       "             name            brand    teaType    ingredients  flavors  \\\n",
       "count       15641            15641      15641          15641    15641   \n",
       "unique      13822             2227        231           3789    12676   \n",
       "top     Earl Grey  Yunnan Sourcing  Black Tea  Not available  Flowers   \n",
       "freq           53              610       4042           8422       76   \n",
       "\n",
       "               soldIn       caffeine  certification  \\\n",
       "count           15641          15641          15641   \n",
       "unique             16              6             16   \n",
       "top     Not available  Not available  Not available   \n",
       "freq             6637          10768          13559   \n",
       "\n",
       "                                                 imageUrl  \n",
       "count                                               15641  \n",
       "unique                                              13517  \n",
       "top     https://media.steepster.com/api/file/anN07UThR...  \n",
       "freq                                                 2125  "
      ]
     },
     "execution_count": 9,
     "metadata": {},
     "output_type": "execute_result"
    }
   ],
   "source": [
    "tea_df.describe(include=[np.object])"
   ]
  },
  {
   "cell_type": "code",
   "execution_count": 10,
   "metadata": {},
   "outputs": [
    {
     "data": {
      "text/plain": [
       "<matplotlib.axes._subplots.AxesSubplot at 0x106f8bc50>"
      ]
     },
     "execution_count": 10,
     "metadata": {},
     "output_type": "execute_result"
    },
    {
     "data": {
      "image/png": "[encoded data removed]",
      "text/plain": [
       "<Figure size 432x288 with 1 Axes>"
      ]
     },
     "metadata": {},
     "output_type": "display_data"
    }
   ],
   "source": [
    "tea_df.ratingValue.plot('hist', title=\"Distribution of Rating Value\")"
   ]
  },
  {
   "cell_type": "code",
   "execution_count": 11,
   "metadata": {},
   "outputs": [
    {
     "data": {
      "text/plain": [
       "<matplotlib.axes._subplots.AxesSubplot at 0x106f82e10>"
      ]
     },
     "execution_count": 11,
     "metadata": {},
     "output_type": "execute_result"
    },
    {
     "data": {
      "image/png": "[encoded data removed]",
      "text/plain": [
       "<Figure size 432x288 with 1 Axes>"
      ]
     },
     "metadata": {},
     "output_type": "display_data"
    }
   ],
   "source": [
    "tea_df.reviewCount.plot('hist', title=\"Distribution of Review Count\")"
   ]
  },
  {
   "cell_type": "code",
   "execution_count": 12,
   "metadata": {},
   "outputs": [
    {
     "data": {
      "text/plain": [
       "<matplotlib.axes._subplots.AxesSubplot at 0x10a019510>"
      ]
     },
     "execution_count": 12,
     "metadata": {},
     "output_type": "execute_result"
    },
    {
     "data": {
      "image/png": "[encoded data removed]",
      "text/plain": [
       "<Figure size 432x288 with 1 Axes>"
      ]
     },
     "metadata": {},
     "output_type": "display_data"
    }
   ],
   "source": [
    "tea_df.caffeine.value_counts().plot('bar', title=\"Distribution of Caffeine\")"
   ]
  },
  {
   "cell_type": "code",
   "execution_count": 13,
   "metadata": {},
   "outputs": [
    {
     "data": {
      "text/plain": [
       "<matplotlib.axes._subplots.AxesSubplot at 0x10a0099d0>"
      ]
     },
     "execution_count": 13,
     "metadata": {},
     "output_type": "execute_result"
    },
    {
     "data": {
      "image/png": "[encoded data removed]",
      "text/plain": [
       "<Figure size 432x288 with 1 Axes>"
      ]
     },
     "metadata": {},
     "output_type": "display_data"
    }
   ],
   "source": [
    "tea_df.certification.value_counts().plot('bar',  title=\"Distribution of Certification\")"
   ]
  },
  {
   "cell_type": "code",
   "execution_count": 14,
   "metadata": {},
   "outputs": [
    {
     "data": {
      "text/plain": [
       "<matplotlib.axes._subplots.AxesSubplot at 0x10a0f1310>"
      ]
     },
     "execution_count": 14,
     "metadata": {},
     "output_type": "execute_result"
    },
    {
     "data": {
      "image/png": "[encoded data removed]",
      "text/plain": [
       "<Figure size 432x288 with 1 Axes>"
      ]
     },
     "metadata": {},
     "output_type": "display_data"
    }
   ],
   "source": [
    "tea_df.soldIn.value_counts().plot('bar', title=\"Distribution of Sold In\")"
   ]
  },
  {
   "cell_type": "markdown",
   "metadata": {},
   "source": [
    "**Usable data:**"
   ]
  },
  {
   "cell_type": "code",
   "execution_count": 15,
   "metadata": {},
   "outputs": [],
   "source": [
    "tea_df.to_csv(\"./scraper/clean_data.csv\")"
   ]
  }
 ],
 "metadata": {
  "kernelspec": {
   "display_name": "Python 2",
   "language": "python",
   "name": "python2"
  },
  "language_info": {
   "codemirror_mode": {
    "name": "ipython",
    "version": 2
   },
   "file_extension": ".py",
   "mimetype": "text/x-python",
   "name": "python",
   "nbconvert_exporter": "python",
   "pygments_lexer": "ipython2",
   "version": "2.7.14"
  }
 },
 "nbformat": 4,
 "nbformat_minor": 2
}
