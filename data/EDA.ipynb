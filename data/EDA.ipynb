{
 "cells": [
  {
   "cell_type": "code",
   "execution_count": 1,
   "metadata": {},
   "outputs": [],
   "source": [
    "import pandas\n",
    "import numpy as np\n",
    "\n",
    "%matplotlib inline"
   ]
  },
  {
   "cell_type": "code",
   "execution_count": 2,
   "metadata": {},
   "outputs": [
    {
     "name": "stderr",
     "output_type": "stream",
     "text": [
      "/anaconda/lib/python3.6/site-packages/IPython/core/interactiveshell.py:2728: DtypeWarning: Columns (4) have mixed types. Specify dtype option on import or set low_memory=False.\n",
      "  interactivity=interactivity, compiler=compiler, result=result)\n"
     ]
    }
   ],
   "source": [
    "raw_tea_df = pandas.read_csv(\"./scraper/tea.csv\")"
   ]
  },
  {
   "cell_type": "code",
   "execution_count": 3,
   "metadata": {},
   "outputs": [
    {
     "data": {
      "text/html": [
       "<div>\n",
       "<style>\n",
       "    .dataframe thead tr:only-child th {\n",
       "        text-align: right;\n",
       "    }\n",
       "\n",
       "    .dataframe thead th {\n",
       "        text-align: left;\n",
       "    }\n",
       "\n",
       "    .dataframe tbody tr th {\n",
       "        vertical-align: top;\n",
       "    }\n",
       "</style>\n",
       "<table border=\"1\" class=\"dataframe\">\n",
       "  <thead>\n",
       "    <tr style=\"text-align: right;\">\n",
       "      <th></th>\n",
       "      <th>name</th>\n",
       "      <th>brand</th>\n",
       "      <th>reviewCount</th>\n",
       "      <th>ratingValue</th>\n",
       "      <th>ingredients</th>\n",
       "      <th>flavors</th>\n",
       "      <th>soldIn</th>\n",
       "      <th>caffeine</th>\n",
       "      <th>certification</th>\n",
       "      <th>wantIt</th>\n",
       "      <th>ownIt</th>\n",
       "    </tr>\n",
       "    <tr>\n",
       "      <th>id</th>\n",
       "      <th></th>\n",
       "      <th></th>\n",
       "      <th></th>\n",
       "      <th></th>\n",
       "      <th></th>\n",
       "      <th></th>\n",
       "      <th></th>\n",
       "      <th></th>\n",
       "      <th></th>\n",
       "      <th></th>\n",
       "      <th></th>\n",
       "    </tr>\n",
       "  </thead>\n",
       "  <tbody>\n",
       "    <tr>\n",
       "      <th>20060</th>\n",
       "      <td>Hand Picked Tieguanyin Spring Oolong (2011)</td>\n",
       "      <td>Verdant Tea</td>\n",
       "      <td>79</td>\n",
       "      <td>89</td>\n",
       "      <td>Oolong Tea</td>\n",
       "      <td>Sugar, Flowers, Berries, Berry, White Chocolat...</td>\n",
       "      <td>Loose Leaf</td>\n",
       "      <td>Medium</td>\n",
       "      <td>Not available</td>\n",
       "      <td>139</td>\n",
       "      <td>140</td>\n",
       "    </tr>\n",
       "    <tr>\n",
       "      <th>7839</th>\n",
       "      <td>J.E Oolong Milky</td>\n",
       "      <td>THE O DOR</td>\n",
       "      <td>26</td>\n",
       "      <td>89</td>\n",
       "      <td>Oolong Tea</td>\n",
       "      <td>Milk, Creamy, Butter</td>\n",
       "      <td>Loose Leaf</td>\n",
       "      <td>Not available</td>\n",
       "      <td>Kosher</td>\n",
       "      <td>47</td>\n",
       "      <td>35</td>\n",
       "    </tr>\n",
       "    <tr>\n",
       "      <th>8188</th>\n",
       "      <td>Golden Honey Dew</td>\n",
       "      <td>Lupicia</td>\n",
       "      <td>64</td>\n",
       "      <td>89</td>\n",
       "      <td>Green Rooibos, Honeydew, Marigold Flowers</td>\n",
       "      <td>Honey Dew, Green Melons, Honeydew, Melon, Roas...</td>\n",
       "      <td>Loose Leaf, Sachet</td>\n",
       "      <td>Caffeine Free</td>\n",
       "      <td>Not available</td>\n",
       "      <td>61</td>\n",
       "      <td>52</td>\n",
       "    </tr>\n",
       "    <tr>\n",
       "      <th>41785</th>\n",
       "      <td>Imperial Gold Needle Yunnan Black Tea</td>\n",
       "      <td>Yunnan Sourcing</td>\n",
       "      <td>25</td>\n",
       "      <td>89</td>\n",
       "      <td>Not available</td>\n",
       "      <td>Chocolate, Cocoa, Malt, Melon, Plums, Sweet Po...</td>\n",
       "      <td>Loose Leaf</td>\n",
       "      <td>Not available</td>\n",
       "      <td>Not available</td>\n",
       "      <td>40</td>\n",
       "      <td>33</td>\n",
       "    </tr>\n",
       "    <tr>\n",
       "      <th>19426</th>\n",
       "      <td>Ye Sheng Wild White</td>\n",
       "      <td>Canton Tea Co</td>\n",
       "      <td>10</td>\n",
       "      <td>89</td>\n",
       "      <td>Not available</td>\n",
       "      <td>Flowers, Grapes, Vegetal</td>\n",
       "      <td>Not available</td>\n",
       "      <td>Not available</td>\n",
       "      <td>Not available</td>\n",
       "      <td>15</td>\n",
       "      <td>8</td>\n",
       "    </tr>\n",
       "  </tbody>\n",
       "</table>\n",
       "</div>"
      ],
      "text/plain": [
       "                                              name            brand  \\\n",
       "id                                                                    \n",
       "20060  Hand Picked Tieguanyin Spring Oolong (2011)      Verdant Tea   \n",
       "7839                              J.E Oolong Milky        THE O DOR   \n",
       "8188                              Golden Honey Dew          Lupicia   \n",
       "41785        Imperial Gold Needle Yunnan Black Tea  Yunnan Sourcing   \n",
       "19426                          Ye Sheng Wild White    Canton Tea Co   \n",
       "\n",
       "       reviewCount ratingValue                                ingredients  \\\n",
       "id                                                                          \n",
       "20060           79          89                                 Oolong Tea   \n",
       "7839            26          89                                 Oolong Tea   \n",
       "8188            64          89  Green Rooibos, Honeydew, Marigold Flowers   \n",
       "41785           25          89                              Not available   \n",
       "19426           10          89                              Not available   \n",
       "\n",
       "                                                 flavors              soldIn  \\\n",
       "id                                                                             \n",
       "20060  Sugar, Flowers, Berries, Berry, White Chocolat...          Loose Leaf   \n",
       "7839                                Milk, Creamy, Butter          Loose Leaf   \n",
       "8188   Honey Dew, Green Melons, Honeydew, Melon, Roas...  Loose Leaf, Sachet   \n",
       "41785  Chocolate, Cocoa, Malt, Melon, Plums, Sweet Po...          Loose Leaf   \n",
       "19426                           Flowers, Grapes, Vegetal       Not available   \n",
       "\n",
       "            caffeine  certification  wantIt  ownIt  \n",
       "id                                                  \n",
       "20060         Medium  Not available     139    140  \n",
       "7839   Not available         Kosher      47     35  \n",
       "8188   Caffeine Free  Not available      61     52  \n",
       "41785  Not available  Not available      40     33  \n",
       "19426  Not available  Not available      15      8  "
      ]
     },
     "execution_count": 3,
     "metadata": {},
     "output_type": "execute_result"
    }
   ],
   "source": [
    "tea_df = raw_tea_df.drop(['url'], axis=1)\n",
    "tea_df = tea_df.set_index('id')\n",
    "tea_df.head()"
   ]
  },
  {
   "cell_type": "markdown",
   "metadata": {},
   "source": [
    "**Fix ratingValue**"
   ]
  },
  {
   "cell_type": "code",
   "execution_count": 4,
   "metadata": {},
   "outputs": [],
   "source": [
    "tea_df[tea_df.ratingValue == \"--\"] = np.NaN\n",
    "tea_df.ratingValue = tea_df.ratingValue.astype(float)"
   ]
  },
  {
   "cell_type": "markdown",
   "metadata": {},
   "source": [
    "**Remove missing values**"
   ]
  },
  {
   "cell_type": "code",
   "execution_count": 5,
   "metadata": {},
   "outputs": [
    {
     "name": "stdout",
     "output_type": "stream",
     "text": [
      "Number of missing values:\n"
     ]
    },
    {
     "data": {
      "text/plain": [
       "name             20958\n",
       "brand            20958\n",
       "reviewCount      20958\n",
       "ratingValue      20958\n",
       "ingredients      20958\n",
       "flavors          20958\n",
       "soldIn           20958\n",
       "caffeine         20958\n",
       "certification    20958\n",
       "wantIt           20958\n",
       "ownIt            20958\n",
       "dtype: int64"
      ]
     },
     "execution_count": 5,
     "metadata": {},
     "output_type": "execute_result"
    }
   ],
   "source": [
    "print(\"Number of missing values:\")\n",
    "tea_df.isnull().sum()"
   ]
  },
  {
   "cell_type": "code",
   "execution_count": 6,
   "metadata": {},
   "outputs": [
    {
     "name": "stdout",
     "output_type": "stream",
     "text": [
      "Number of missing values:\n"
     ]
    },
    {
     "data": {
      "text/plain": [
       "name             0\n",
       "brand            0\n",
       "reviewCount      0\n",
       "ratingValue      0\n",
       "ingredients      0\n",
       "flavors          0\n",
       "soldIn           0\n",
       "caffeine         0\n",
       "certification    0\n",
       "wantIt           0\n",
       "ownIt            0\n",
       "dtype: int64"
      ]
     },
     "execution_count": 6,
     "metadata": {},
     "output_type": "execute_result"
    }
   ],
   "source": [
    "tea_df = tea_df.dropna(axis=0, how='all')\n",
    "print(\"Number of missing values:\")\n",
    "tea_df.isnull().sum()"
   ]
  },
  {
   "cell_type": "markdown",
   "metadata": {},
   "source": [
    "**Describe data**"
   ]
  },
  {
   "cell_type": "code",
   "execution_count": 7,
   "metadata": {},
   "outputs": [
    {
     "data": {
      "text/html": [
       "<div>\n",
       "<style>\n",
       "    .dataframe thead tr:only-child th {\n",
       "        text-align: right;\n",
       "    }\n",
       "\n",
       "    .dataframe thead th {\n",
       "        text-align: left;\n",
       "    }\n",
       "\n",
       "    .dataframe tbody tr th {\n",
       "        vertical-align: top;\n",
       "    }\n",
       "</style>\n",
       "<table border=\"1\" class=\"dataframe\">\n",
       "  <thead>\n",
       "    <tr style=\"text-align: right;\">\n",
       "      <th></th>\n",
       "      <th>reviewCount</th>\n",
       "      <th>ratingValue</th>\n",
       "      <th>wantIt</th>\n",
       "      <th>ownIt</th>\n",
       "    </tr>\n",
       "  </thead>\n",
       "  <tbody>\n",
       "    <tr>\n",
       "      <th>count</th>\n",
       "      <td>47243.000000</td>\n",
       "      <td>47243.000000</td>\n",
       "      <td>47243.000000</td>\n",
       "      <td>47243.000000</td>\n",
       "    </tr>\n",
       "    <tr>\n",
       "      <th>mean</th>\n",
       "      <td>4.417586</td>\n",
       "      <td>76.729971</td>\n",
       "      <td>1.711978</td>\n",
       "      <td>4.248312</td>\n",
       "    </tr>\n",
       "    <tr>\n",
       "      <th>std</th>\n",
       "      <td>13.613892</td>\n",
       "      <td>5.533160</td>\n",
       "      <td>7.119419</td>\n",
       "      <td>18.561321</td>\n",
       "    </tr>\n",
       "    <tr>\n",
       "      <th>min</th>\n",
       "      <td>0.000000</td>\n",
       "      <td>25.000000</td>\n",
       "      <td>0.000000</td>\n",
       "      <td>0.000000</td>\n",
       "    </tr>\n",
       "    <tr>\n",
       "      <th>25%</th>\n",
       "      <td>1.000000</td>\n",
       "      <td>74.000000</td>\n",
       "      <td>0.000000</td>\n",
       "      <td>0.000000</td>\n",
       "    </tr>\n",
       "    <tr>\n",
       "      <th>50%</th>\n",
       "      <td>1.000000</td>\n",
       "      <td>78.000000</td>\n",
       "      <td>0.000000</td>\n",
       "      <td>1.000000</td>\n",
       "    </tr>\n",
       "    <tr>\n",
       "      <th>75%</th>\n",
       "      <td>3.000000</td>\n",
       "      <td>80.000000</td>\n",
       "      <td>1.000000</td>\n",
       "      <td>3.000000</td>\n",
       "    </tr>\n",
       "    <tr>\n",
       "      <th>max</th>\n",
       "      <td>671.000000</td>\n",
       "      <td>89.000000</td>\n",
       "      <td>315.000000</td>\n",
       "      <td>979.000000</td>\n",
       "    </tr>\n",
       "  </tbody>\n",
       "</table>\n",
       "</div>"
      ],
      "text/plain": [
       "        reviewCount   ratingValue        wantIt         ownIt\n",
       "count  47243.000000  47243.000000  47243.000000  47243.000000\n",
       "mean       4.417586     76.729971      1.711978      4.248312\n",
       "std       13.613892      5.533160      7.119419     18.561321\n",
       "min        0.000000     25.000000      0.000000      0.000000\n",
       "25%        1.000000     74.000000      0.000000      0.000000\n",
       "50%        1.000000     78.000000      0.000000      1.000000\n",
       "75%        3.000000     80.000000      1.000000      3.000000\n",
       "max      671.000000     89.000000    315.000000    979.000000"
      ]
     },
     "execution_count": 7,
     "metadata": {},
     "output_type": "execute_result"
    }
   ],
   "source": [
    "tea_df.describe()"
   ]
  },
  {
   "cell_type": "code",
   "execution_count": 8,
   "metadata": {},
   "outputs": [
    {
     "data": {
      "text/html": [
       "<div>\n",
       "<style>\n",
       "    .dataframe thead tr:only-child th {\n",
       "        text-align: right;\n",
       "    }\n",
       "\n",
       "    .dataframe thead th {\n",
       "        text-align: left;\n",
       "    }\n",
       "\n",
       "    .dataframe tbody tr th {\n",
       "        vertical-align: top;\n",
       "    }\n",
       "</style>\n",
       "<table border=\"1\" class=\"dataframe\">\n",
       "  <thead>\n",
       "    <tr style=\"text-align: right;\">\n",
       "      <th></th>\n",
       "      <th>name</th>\n",
       "      <th>brand</th>\n",
       "      <th>ingredients</th>\n",
       "      <th>flavors</th>\n",
       "      <th>soldIn</th>\n",
       "      <th>caffeine</th>\n",
       "      <th>certification</th>\n",
       "    </tr>\n",
       "  </thead>\n",
       "  <tbody>\n",
       "    <tr>\n",
       "      <th>count</th>\n",
       "      <td>47243</td>\n",
       "      <td>47243</td>\n",
       "      <td>47243</td>\n",
       "      <td>47243</td>\n",
       "      <td>47243</td>\n",
       "      <td>47243</td>\n",
       "      <td>47243</td>\n",
       "    </tr>\n",
       "    <tr>\n",
       "      <th>unique</th>\n",
       "      <td>37240</td>\n",
       "      <td>5551</td>\n",
       "      <td>5456</td>\n",
       "      <td>12670</td>\n",
       "      <td>16</td>\n",
       "      <td>6</td>\n",
       "      <td>16</td>\n",
       "    </tr>\n",
       "    <tr>\n",
       "      <th>top</th>\n",
       "      <td>Earl Grey</td>\n",
       "      <td>Yunnan Sourcing</td>\n",
       "      <td>Not available</td>\n",
       "      <td>Not available</td>\n",
       "      <td>Not available</td>\n",
       "      <td>Not available</td>\n",
       "      <td>Not available</td>\n",
       "    </tr>\n",
       "    <tr>\n",
       "      <th>freq</th>\n",
       "      <td>239</td>\n",
       "      <td>915</td>\n",
       "      <td>36713</td>\n",
       "      <td>31611</td>\n",
       "      <td>32696</td>\n",
       "      <td>40003</td>\n",
       "      <td>43921</td>\n",
       "    </tr>\n",
       "  </tbody>\n",
       "</table>\n",
       "</div>"
      ],
      "text/plain": [
       "             name            brand    ingredients        flavors  \\\n",
       "count       47243            47243          47243          47243   \n",
       "unique      37240             5551           5456          12670   \n",
       "top     Earl Grey  Yunnan Sourcing  Not available  Not available   \n",
       "freq          239              915          36713          31611   \n",
       "\n",
       "               soldIn       caffeine  certification  \n",
       "count           47243          47243          47243  \n",
       "unique             16              6             16  \n",
       "top     Not available  Not available  Not available  \n",
       "freq            32696          40003          43921  "
      ]
     },
     "execution_count": 8,
     "metadata": {},
     "output_type": "execute_result"
    }
   ],
   "source": [
    "tea_df.describe(include=[np.object])"
   ]
  },
  {
   "cell_type": "code",
   "execution_count": 9,
   "metadata": {},
   "outputs": [
    {
     "data": {
      "text/plain": [
       "<matplotlib.axes._subplots.AxesSubplot at 0x10e4567f0>"
      ]
     },
     "execution_count": 9,
     "metadata": {},
     "output_type": "execute_result"
    },
    {
     "data": {
      "image/png": "[encoded data removed]",
      "text/plain": [
       "<matplotlib.figure.Figure at 0x1170c3f60>"
      ]
     },
     "metadata": {},
     "output_type": "display_data"
    }
   ],
   "source": [
    "tea_df.ratingValue.plot('hist', title=\"Distribution of Rating Value\")"
   ]
  },
  {
   "cell_type": "code",
   "execution_count": 10,
   "metadata": {},
   "outputs": [
    {
     "data": {
      "text/plain": [
       "<matplotlib.axes._subplots.AxesSubplot at 0x1135015c0>"
      ]
     },
     "execution_count": 10,
     "metadata": {},
     "output_type": "execute_result"
    },
    {
     "data": {
      "image/png": "[encoded data removed]",
      "text/plain": [
       "<matplotlib.figure.Figure at 0x1170c3dd8>"
      ]
     },
     "metadata": {},
     "output_type": "display_data"
    }
   ],
   "source": [
    "tea_df.reviewCount.plot('hist', title=\"Distribution of Review Count\")"
   ]
  },
  {
   "cell_type": "code",
   "execution_count": 11,
   "metadata": {},
   "outputs": [
    {
     "data": {
      "text/plain": [
       "<matplotlib.axes._subplots.AxesSubplot at 0x1143e4a58>"
      ]
     },
     "execution_count": 11,
     "metadata": {},
     "output_type": "execute_result"
    },
    {
     "data": {
      "image/png": "[encoded data removed]",
      "text/plain": [
       "<matplotlib.figure.Figure at 0x115670278>"
      ]
     },
     "metadata": {},
     "output_type": "display_data"
    }
   ],
   "source": [
    "tea_df.caffeine.value_counts().plot('bar', title=\"Distribution of Caffeine\")"
   ]
  },
  {
   "cell_type": "code",
   "execution_count": 12,
   "metadata": {},
   "outputs": [
    {
     "data": {
      "text/plain": [
       "<matplotlib.axes._subplots.AxesSubplot at 0x10f1580f0>"
      ]
     },
     "execution_count": 12,
     "metadata": {},
     "output_type": "execute_result"
    },
    {
     "data": {
      "image/png": "[encoded data removed]",
      "text/plain": [
       "<matplotlib.figure.Figure at 0x11432b6d8>"
      ]
     },
     "metadata": {},
     "output_type": "display_data"
    }
   ],
   "source": [
    "tea_df.certification.value_counts().plot('bar',  title=\"Distribution of Certification\")"
   ]
  },
  {
   "cell_type": "code",
   "execution_count": 13,
   "metadata": {},
   "outputs": [
    {
     "data": {
      "text/plain": [
       "<matplotlib.axes._subplots.AxesSubplot at 0x113f9a128>"
      ]
     },
     "execution_count": 13,
     "metadata": {},
     "output_type": "execute_result"
    },
    {
     "data": {
      "image/png": "[encoded data removed]",
      "text/plain": [
       "<matplotlib.figure.Figure at 0x1141ccb00>"
      ]
     },
     "metadata": {},
     "output_type": "display_data"
    }
   ],
   "source": [
    "tea_df.soldIn.value_counts().plot('bar', title=\"Distribution of Sold In\")"
   ]
  },
  {
   "cell_type": "code",
   "execution_count": null,
   "metadata": {},
   "outputs": [],
   "source": []
  }
 ],
 "metadata": {
  "kernelspec": {
   "display_name": "Python 3",
   "language": "python",
   "name": "python3"
  },
  "language_info": {
   "codemirror_mode": {
    "name": "ipython",
    "version": 3
   },
   "file_extension": ".py",
   "mimetype": "text/x-python",
   "name": "python",
   "nbconvert_exporter": "python",
   "pygments_lexer": "ipython3",
   "version": "3.6.3"
  }
 },
 "nbformat": 4,
 "nbformat_minor": 2
}
