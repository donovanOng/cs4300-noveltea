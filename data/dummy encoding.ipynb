{
 "cells": [
  {
   "cell_type": "code",
   "execution_count": 1,
   "metadata": {},
   "outputs": [],
   "source": [
    "import pandas as pd\n",
    "import numpy as np\n",
    "import random\n",
    "\n",
    "import matplotlib.pyplot as plt\n",
    "%matplotlib inline"
   ]
  },
  {
   "cell_type": "code",
   "execution_count": 2,
   "metadata": {},
   "outputs": [
    {
     "data": {
      "text/html": [
       "<div>\n",
       "<style scoped>\n",
       "    .dataframe tbody tr th:only-of-type {\n",
       "        vertical-align: middle;\n",
       "    }\n",
       "\n",
       "    .dataframe tbody tr th {\n",
       "        vertical-align: top;\n",
       "    }\n",
       "\n",
       "    .dataframe thead th {\n",
       "        text-align: right;\n",
       "    }\n",
       "</style>\n",
       "<table border=\"1\" class=\"dataframe\">\n",
       "  <thead>\n",
       "    <tr style=\"text-align: right;\">\n",
       "      <th></th>\n",
       "      <th>id</th>\n",
       "      <th>name</th>\n",
       "      <th>brand</th>\n",
       "      <th>reviewCount</th>\n",
       "      <th>ratingValue</th>\n",
       "      <th>teaType</th>\n",
       "      <th>ingredients</th>\n",
       "      <th>flavors</th>\n",
       "      <th>soldIn</th>\n",
       "      <th>caffeine</th>\n",
       "      <th>certification</th>\n",
       "      <th>wantIt</th>\n",
       "      <th>ownIt</th>\n",
       "      <th>imageUrl</th>\n",
       "    </tr>\n",
       "  </thead>\n",
       "  <tbody>\n",
       "    <tr>\n",
       "      <th>0</th>\n",
       "      <td>65303</td>\n",
       "      <td>2015 Last Thoughts</td>\n",
       "      <td>White 2 Tea</td>\n",
       "      <td>16.0</td>\n",
       "      <td>89.0</td>\n",
       "      <td>Pu-erh Tea</td>\n",
       "      <td>Not available</td>\n",
       "      <td>Floral, Rainforest, Honeysuckle, Orchids, Pepp...</td>\n",
       "      <td>Not available</td>\n",
       "      <td>Not available</td>\n",
       "      <td>Not available</td>\n",
       "      <td>51.0</td>\n",
       "      <td>20.0</td>\n",
       "      <td>https://media.steepster.com/api/file/kL8dCqJrT...</td>\n",
       "    </tr>\n",
       "    <tr>\n",
       "      <th>1</th>\n",
       "      <td>43095</td>\n",
       "      <td>Golden Orchid</td>\n",
       "      <td>Whispering Pines Tea Company</td>\n",
       "      <td>155.0</td>\n",
       "      <td>89.0</td>\n",
       "      <td>Black Tea</td>\n",
       "      <td>Fujian Xiao Zhong, Vanilla Bean, Yunnan Dian Hong</td>\n",
       "      <td>Dark Chocolate, Chocolate, Dates, Malt, Orchid...</td>\n",
       "      <td>Loose Leaf</td>\n",
       "      <td>High</td>\n",
       "      <td>Not available</td>\n",
       "      <td>315.0</td>\n",
       "      <td>236.0</td>\n",
       "      <td>https://media.steepster.com/api/file/exT0OHWdT...</td>\n",
       "    </tr>\n",
       "    <tr>\n",
       "      <th>2</th>\n",
       "      <td>78801</td>\n",
       "      <td>The Silver Moonlight</td>\n",
       "      <td>Chai &amp; Mighty</td>\n",
       "      <td>6.0</td>\n",
       "      <td>89.0</td>\n",
       "      <td>White Tea</td>\n",
       "      <td>White Tea Leaves</td>\n",
       "      <td>Honey, Lemon, Nuts, Flowers, Lemongrass</td>\n",
       "      <td>Loose Leaf</td>\n",
       "      <td>Low</td>\n",
       "      <td>Fair Trade, Organic, Vegan</td>\n",
       "      <td>3.0</td>\n",
       "      <td>4.0</td>\n",
       "      <td>https://media.steepster.com/api/file/cmNMAbwSn...</td>\n",
       "    </tr>\n",
       "    <tr>\n",
       "      <th>3</th>\n",
       "      <td>48058</td>\n",
       "      <td>Cocoa Amore</td>\n",
       "      <td>Whispering Pines Tea Company</td>\n",
       "      <td>85.0</td>\n",
       "      <td>89.0</td>\n",
       "      <td>Black Tea</td>\n",
       "      <td>Chinese Black Tea, Tahitian Vanilla</td>\n",
       "      <td>Cocoa, Dark Chocolate, Malt, Vanilla, Apple, A...</td>\n",
       "      <td>Loose Leaf</td>\n",
       "      <td>High</td>\n",
       "      <td>Not available</td>\n",
       "      <td>227.0</td>\n",
       "      <td>156.0</td>\n",
       "      <td>https://media.steepster.com/api/file/0vAf5X4Si...</td>\n",
       "    </tr>\n",
       "    <tr>\n",
       "      <th>4</th>\n",
       "      <td>32444</td>\n",
       "      <td>Laoshan Bilochun Green</td>\n",
       "      <td>Verdant Tea</td>\n",
       "      <td>19.0</td>\n",
       "      <td>89.0</td>\n",
       "      <td>Green Tea</td>\n",
       "      <td>Not available</td>\n",
       "      <td>Sweet, Mineral, Nutty, Roasted, Salty, Butter,...</td>\n",
       "      <td>Not available</td>\n",
       "      <td>Not available</td>\n",
       "      <td>Not available</td>\n",
       "      <td>11.0</td>\n",
       "      <td>21.0</td>\n",
       "      <td>https://media.steepster.com/api/file/F0AJQO5DT...</td>\n",
       "    </tr>\n",
       "  </tbody>\n",
       "</table>\n",
       "</div>"
      ],
      "text/plain": [
       "      id                    name                         brand  reviewCount  \\\n",
       "0  65303      2015 Last Thoughts                   White 2 Tea         16.0   \n",
       "1  43095           Golden Orchid  Whispering Pines Tea Company        155.0   \n",
       "2  78801    The Silver Moonlight                 Chai & Mighty          6.0   \n",
       "3  48058             Cocoa Amore  Whispering Pines Tea Company         85.0   \n",
       "4  32444  Laoshan Bilochun Green                   Verdant Tea         19.0   \n",
       "\n",
       "   ratingValue     teaType                                        ingredients  \\\n",
       "0         89.0  Pu-erh Tea                                      Not available   \n",
       "1         89.0   Black Tea  Fujian Xiao Zhong, Vanilla Bean, Yunnan Dian Hong   \n",
       "2         89.0   White Tea                                   White Tea Leaves   \n",
       "3         89.0   Black Tea                Chinese Black Tea, Tahitian Vanilla   \n",
       "4         89.0   Green Tea                                      Not available   \n",
       "\n",
       "                                             flavors         soldIn  \\\n",
       "0  Floral, Rainforest, Honeysuckle, Orchids, Pepp...  Not available   \n",
       "1  Dark Chocolate, Chocolate, Dates, Malt, Orchid...     Loose Leaf   \n",
       "2            Honey, Lemon, Nuts, Flowers, Lemongrass     Loose Leaf   \n",
       "3  Cocoa, Dark Chocolate, Malt, Vanilla, Apple, A...     Loose Leaf   \n",
       "4  Sweet, Mineral, Nutty, Roasted, Salty, Butter,...  Not available   \n",
       "\n",
       "        caffeine               certification  wantIt  ownIt  \\\n",
       "0  Not available               Not available    51.0   20.0   \n",
       "1           High               Not available   315.0  236.0   \n",
       "2            Low  Fair Trade, Organic, Vegan     3.0    4.0   \n",
       "3           High               Not available   227.0  156.0   \n",
       "4  Not available               Not available    11.0   21.0   \n",
       "\n",
       "                                            imageUrl  \n",
       "0  https://media.steepster.com/api/file/kL8dCqJrT...  \n",
       "1  https://media.steepster.com/api/file/exT0OHWdT...  \n",
       "2  https://media.steepster.com/api/file/cmNMAbwSn...  \n",
       "3  https://media.steepster.com/api/file/0vAf5X4Si...  \n",
       "4  https://media.steepster.com/api/file/F0AJQO5DT...  "
      ]
     },
     "execution_count": 2,
     "metadata": {},
     "output_type": "execute_result"
    }
   ],
   "source": [
    "tea_df = pd.read_csv(\"scraper/clean_data.csv\")\n",
    "tea_df.head()"
   ]
  },
  {
   "cell_type": "markdown",
   "metadata": {},
   "source": [
    "### Indexing flavors"
   ]
  },
  {
   "cell_type": "code",
   "execution_count": 3,
   "metadata": {},
   "outputs": [
    {
     "name": "stdout",
     "output_type": "stream",
     "text": [
      "('Total number of flavors:', 358)\n",
      "('Index of Floral:', 118, '\\nFlavor with index 5:', 'Apple')\n"
     ]
    }
   ],
   "source": [
    "flavors = set()\n",
    "for tea in tea_df['flavors']:\n",
    "    for flavs in tea.split(\",\"):\n",
    "        flavors.add(flavs.strip().title())\n",
    "\n",
    "ordered_flavors = sorted(list(flavors))\n",
    "number_of_flavors = len(flavors)\n",
    "\n",
    "print(\"Total number of flavors:\", number_of_flavors)\n",
    "\n",
    "flavor_to_index = {}\n",
    "index_to_flavor = {}\n",
    "i = 0\n",
    "for flavor in ordered_flavors:\n",
    "    flavor_to_index[flavor] = i\n",
    "    index_to_flavor[i] = flavor\n",
    "    i += 1\n",
    "    \n",
    "print(\"Index of Floral:\", flavor_to_index[\"Floral\"], \"\\nFlavor with index 5:\", index_to_flavor[4])"
   ]
  },
  {
   "cell_type": "markdown",
   "metadata": {},
   "source": [
    "### One-hot encoding for Tea Flavors"
   ]
  },
  {
   "cell_type": "code",
   "execution_count": 4,
   "metadata": {},
   "outputs": [
    {
     "data": {
      "text/plain": [
       "array([0., 0., 0., 0., 0., 0., 1., 0., 0., 0., 0., 0., 0., 0., 0., 0., 0.,\n",
       "       0., 0., 0., 0., 0., 0., 0., 0., 0., 0., 0., 0., 0., 0., 0., 0., 0.,\n",
       "       0., 0., 0., 0., 0., 0., 0., 0., 0., 0., 0., 0., 0., 0., 0., 0., 0.,\n",
       "       0., 0., 0., 0., 0., 0., 0., 0., 0., 0., 0., 0., 0., 0., 0., 0., 0.,\n",
       "       0., 0., 0., 0., 0., 0., 0., 0., 0., 0., 0., 0., 0., 0., 0., 0., 0.,\n",
       "       0., 0., 0., 0., 0., 0., 0., 0., 0., 0., 0., 0., 0., 0., 0., 0., 0.,\n",
       "       0., 0., 0., 0., 0., 0., 0., 0., 0., 0., 0., 0., 0., 0., 0., 0., 1.,\n",
       "       0., 0., 0., 0., 0., 0., 0., 0., 0., 0., 0., 0., 0., 0., 0., 0., 0.,\n",
       "       1., 0., 0., 0., 0., 0., 0., 0., 0., 0., 0., 0., 0., 0., 0., 0., 0.,\n",
       "       0., 0., 0., 0., 0., 1., 0., 0., 0., 0., 0., 0., 0., 0., 0., 0., 0.,\n",
       "       0., 0., 1., 0., 0., 0., 0., 0., 0., 0., 0., 0., 0., 0., 0., 0., 0.,\n",
       "       0., 0., 0., 0., 0., 0., 0., 0., 0., 0., 0., 0., 0., 0., 0., 0., 0.,\n",
       "       0., 0., 0., 0., 0., 0., 0., 0., 0., 0., 0., 0., 0., 0., 0., 0., 0.,\n",
       "       0., 1., 0., 0., 0., 0., 0., 0., 0., 0., 0., 0., 0., 0., 0., 0., 0.,\n",
       "       1., 1., 0., 0., 0., 0., 0., 0., 0., 0., 0., 0., 0., 0., 0., 1., 0.,\n",
       "       0., 0., 0., 0., 0., 0., 0., 0., 0., 0., 0., 0., 0., 0., 0., 0., 0.,\n",
       "       0., 0., 0., 0., 0., 0., 0., 0., 0., 0., 0., 0., 0., 0., 0., 0., 0.,\n",
       "       0., 0., 0., 0., 0., 0., 0., 0., 0., 0., 0., 0., 0., 0., 0., 0., 0.,\n",
       "       0., 0., 0., 0., 0., 1., 0., 0., 0., 0., 0., 0., 0., 0., 0., 0., 0.,\n",
       "       0., 0., 0., 0., 0., 0., 0., 0., 0., 0., 0., 0., 1., 1., 0., 0., 0.,\n",
       "       0., 0., 0., 0., 0., 0., 0., 0., 0., 0., 0., 1., 0., 0., 0., 0., 0.,\n",
       "       1.])"
      ]
     },
     "execution_count": 4,
     "metadata": {},
     "output_type": "execute_result"
    }
   ],
   "source": [
    "number_of_teas = tea_df.shape[0]\n",
    "flavor_mat = np.zeros((number_of_teas, number_of_flavors))\n",
    "\n",
    "for row in range(number_of_teas):\n",
    "    for flvr in set([flvr.strip().title() for flvr in tea_df.flavors[row].split(',')]):\n",
    "        flavor_mat[row][flavor_to_index[flvr]] = 1\n",
    "\n",
    "flavor_mat[0]"
   ]
  },
  {
   "cell_type": "code",
   "execution_count": 5,
   "metadata": {},
   "outputs": [
    {
     "name": "stdout",
     "output_type": "stream",
     "text": [
      "('Flavors of 1st tea:', ['Apple Skins', 'Floral', 'Grapes', 'Honeysuckle', 'Lemon', 'Orchids', 'Pepper', 'Peppercorn', 'Rainforest', 'Sweet', 'Vegetal', 'Vinegar', 'Winter Honey', 'Zucchini'])\n"
     ]
    },
    {
     "data": {
      "text/html": [
       "<div>\n",
       "<style scoped>\n",
       "    .dataframe tbody tr th:only-of-type {\n",
       "        vertical-align: middle;\n",
       "    }\n",
       "\n",
       "    .dataframe tbody tr th {\n",
       "        vertical-align: top;\n",
       "    }\n",
       "\n",
       "    .dataframe thead th {\n",
       "        text-align: right;\n",
       "    }\n",
       "</style>\n",
       "<table border=\"1\" class=\"dataframe\">\n",
       "  <thead>\n",
       "    <tr style=\"text-align: right;\">\n",
       "      <th></th>\n",
       "      <th>Absinthe</th>\n",
       "      <th>Alcohol</th>\n",
       "      <th>Almond</th>\n",
       "      <th>Anise</th>\n",
       "      <th>Apple</th>\n",
       "      <th>Apple Candy</th>\n",
       "      <th>Apple Skins</th>\n",
       "      <th>Apricot</th>\n",
       "      <th>Artichoke</th>\n",
       "      <th>Artificial</th>\n",
       "      <th>...</th>\n",
       "      <th>White Chocolate</th>\n",
       "      <th>White Grapes</th>\n",
       "      <th>White Wine</th>\n",
       "      <th>Winter Honey</th>\n",
       "      <th>Wood</th>\n",
       "      <th>Yams</th>\n",
       "      <th>Yeast</th>\n",
       "      <th>Yeasty</th>\n",
       "      <th>Yogurt</th>\n",
       "      <th>Zucchini</th>\n",
       "    </tr>\n",
       "  </thead>\n",
       "  <tbody>\n",
       "    <tr>\n",
       "      <th>0</th>\n",
       "      <td>0.0</td>\n",
       "      <td>0.0</td>\n",
       "      <td>0.0</td>\n",
       "      <td>0.0</td>\n",
       "      <td>0.0</td>\n",
       "      <td>0.0</td>\n",
       "      <td>1.0</td>\n",
       "      <td>0.0</td>\n",
       "      <td>0.0</td>\n",
       "      <td>0.0</td>\n",
       "      <td>...</td>\n",
       "      <td>0.0</td>\n",
       "      <td>0.0</td>\n",
       "      <td>0.0</td>\n",
       "      <td>1.0</td>\n",
       "      <td>0.0</td>\n",
       "      <td>0.0</td>\n",
       "      <td>0.0</td>\n",
       "      <td>0.0</td>\n",
       "      <td>0.0</td>\n",
       "      <td>1.0</td>\n",
       "    </tr>\n",
       "    <tr>\n",
       "      <th>1</th>\n",
       "      <td>0.0</td>\n",
       "      <td>0.0</td>\n",
       "      <td>0.0</td>\n",
       "      <td>1.0</td>\n",
       "      <td>0.0</td>\n",
       "      <td>0.0</td>\n",
       "      <td>0.0</td>\n",
       "      <td>1.0</td>\n",
       "      <td>0.0</td>\n",
       "      <td>0.0</td>\n",
       "      <td>...</td>\n",
       "      <td>1.0</td>\n",
       "      <td>1.0</td>\n",
       "      <td>0.0</td>\n",
       "      <td>0.0</td>\n",
       "      <td>1.0</td>\n",
       "      <td>0.0</td>\n",
       "      <td>0.0</td>\n",
       "      <td>0.0</td>\n",
       "      <td>0.0</td>\n",
       "      <td>0.0</td>\n",
       "    </tr>\n",
       "    <tr>\n",
       "      <th>2</th>\n",
       "      <td>0.0</td>\n",
       "      <td>0.0</td>\n",
       "      <td>0.0</td>\n",
       "      <td>0.0</td>\n",
       "      <td>0.0</td>\n",
       "      <td>0.0</td>\n",
       "      <td>0.0</td>\n",
       "      <td>0.0</td>\n",
       "      <td>0.0</td>\n",
       "      <td>0.0</td>\n",
       "      <td>...</td>\n",
       "      <td>0.0</td>\n",
       "      <td>0.0</td>\n",
       "      <td>0.0</td>\n",
       "      <td>0.0</td>\n",
       "      <td>0.0</td>\n",
       "      <td>0.0</td>\n",
       "      <td>0.0</td>\n",
       "      <td>0.0</td>\n",
       "      <td>0.0</td>\n",
       "      <td>0.0</td>\n",
       "    </tr>\n",
       "    <tr>\n",
       "      <th>3</th>\n",
       "      <td>0.0</td>\n",
       "      <td>0.0</td>\n",
       "      <td>1.0</td>\n",
       "      <td>0.0</td>\n",
       "      <td>1.0</td>\n",
       "      <td>0.0</td>\n",
       "      <td>0.0</td>\n",
       "      <td>0.0</td>\n",
       "      <td>0.0</td>\n",
       "      <td>0.0</td>\n",
       "      <td>...</td>\n",
       "      <td>0.0</td>\n",
       "      <td>0.0</td>\n",
       "      <td>0.0</td>\n",
       "      <td>0.0</td>\n",
       "      <td>0.0</td>\n",
       "      <td>0.0</td>\n",
       "      <td>0.0</td>\n",
       "      <td>0.0</td>\n",
       "      <td>0.0</td>\n",
       "      <td>0.0</td>\n",
       "    </tr>\n",
       "    <tr>\n",
       "      <th>4</th>\n",
       "      <td>0.0</td>\n",
       "      <td>0.0</td>\n",
       "      <td>0.0</td>\n",
       "      <td>0.0</td>\n",
       "      <td>0.0</td>\n",
       "      <td>0.0</td>\n",
       "      <td>0.0</td>\n",
       "      <td>0.0</td>\n",
       "      <td>0.0</td>\n",
       "      <td>0.0</td>\n",
       "      <td>...</td>\n",
       "      <td>0.0</td>\n",
       "      <td>0.0</td>\n",
       "      <td>0.0</td>\n",
       "      <td>0.0</td>\n",
       "      <td>0.0</td>\n",
       "      <td>0.0</td>\n",
       "      <td>0.0</td>\n",
       "      <td>0.0</td>\n",
       "      <td>0.0</td>\n",
       "      <td>0.0</td>\n",
       "    </tr>\n",
       "  </tbody>\n",
       "</table>\n",
       "<p>5 rows × 358 columns</p>\n",
       "</div>"
      ],
      "text/plain": [
       "   Absinthe  Alcohol  Almond  Anise  Apple  Apple Candy  Apple Skins  Apricot  \\\n",
       "0       0.0      0.0     0.0    0.0    0.0          0.0          1.0      0.0   \n",
       "1       0.0      0.0     0.0    1.0    0.0          0.0          0.0      1.0   \n",
       "2       0.0      0.0     0.0    0.0    0.0          0.0          0.0      0.0   \n",
       "3       0.0      0.0     1.0    0.0    1.0          0.0          0.0      0.0   \n",
       "4       0.0      0.0     0.0    0.0    0.0          0.0          0.0      0.0   \n",
       "\n",
       "   Artichoke  Artificial    ...     White Chocolate  White Grapes  White Wine  \\\n",
       "0        0.0         0.0    ...                 0.0           0.0         0.0   \n",
       "1        0.0         0.0    ...                 1.0           1.0         0.0   \n",
       "2        0.0         0.0    ...                 0.0           0.0         0.0   \n",
       "3        0.0         0.0    ...                 0.0           0.0         0.0   \n",
       "4        0.0         0.0    ...                 0.0           0.0         0.0   \n",
       "\n",
       "   Winter Honey  Wood  Yams  Yeast  Yeasty  Yogurt  Zucchini  \n",
       "0           1.0   0.0   0.0    0.0     0.0     0.0       1.0  \n",
       "1           0.0   1.0   0.0    0.0     0.0     0.0       0.0  \n",
       "2           0.0   0.0   0.0    0.0     0.0     0.0       0.0  \n",
       "3           0.0   0.0   0.0    0.0     0.0     0.0       0.0  \n",
       "4           0.0   0.0   0.0    0.0     0.0     0.0       0.0  \n",
       "\n",
       "[5 rows x 358 columns]"
      ]
     },
     "execution_count": 5,
     "metadata": {},
     "output_type": "execute_result"
    }
   ],
   "source": [
    "print(\"Flavors of 1st tea:\", sorted([flvr.strip().title() for flvr in tea_df.flavors[0].split(',')]))\n",
    "\n",
    "flavor_df = pd.DataFrame(data=flavor_mat, columns=index_to_flavor.values())\n",
    "flavor_df.head()"
   ]
  },
  {
   "cell_type": "markdown",
   "metadata": {},
   "source": [
    "### One-hot encoding for Tea Types"
   ]
  },
  {
   "cell_type": "code",
   "execution_count": 6,
   "metadata": {},
   "outputs": [],
   "source": [
    "teaType_dummy = pd.get_dummies(tea_df.teaType)"
   ]
  },
  {
   "cell_type": "code",
   "execution_count": 7,
   "metadata": {},
   "outputs": [
    {
     "name": "stdout",
     "output_type": "stream",
     "text": [
      "('Number of unique tea type:', 231)\n"
     ]
    }
   ],
   "source": [
    "teaType_count = teaType_dummy.sum(axis = 0)\n",
    "print(\"Number of unique tea type:\", teaType_count.shape[0])"
   ]
  },
  {
   "cell_type": "code",
   "execution_count": 8,
   "metadata": {},
   "outputs": [
    {
     "data": {
      "text/plain": [
       "Flowering Fruit Pu-erh Rooibos Blend                    1\n",
       "Food Matcha Blend                                       1\n",
       "Food Green Herbal Blend                                 1\n",
       "Food Fruit Yerba maté Blend                             1\n",
       "Flowering Yerba maté Blend                              1\n",
       "Flowering Oolong Blend                                  1\n",
       "Flowering Herbal White Blend                            1\n",
       "Flowering Green White Blend                             1\n",
       "Flowering Fruit Rooibos Blend                           1\n",
       "Flowering Fruit Herbal White Blend                      1\n",
       "Flowering Fruit Herbal Rooibos Blend                    1\n",
       "Flowering Fruit Green White Blend                       1\n",
       "Flowering Food Herbal Blend                             1\n",
       "Food Oolong Blend                                       1\n",
       "Flowering Food Fruit Herbal Rooibos Yerba maté Blend    1\n",
       "Chai Oolong White Blend                                 1\n",
       "Chai Matcha Blend                                       1\n",
       "Chai Green Yerba maté Blend                             1\n",
       "Chai Green Rooibos Yerba maté Blend                     1\n",
       "Chai Fruit White Blend                                  1\n",
       "dtype: int64"
      ]
     },
     "execution_count": 8,
     "metadata": {},
     "output_type": "execute_result"
    }
   ],
   "source": [
    "teaType_count.sort_values()[:20]"
   ]
  },
  {
   "cell_type": "code",
   "execution_count": 9,
   "metadata": {},
   "outputs": [
    {
     "data": {
      "text/plain": [
       "Black Tea               4042\n",
       "Green Tea               2112\n",
       "Pu-erh Tea              1896\n",
       "Oolong Tea              1842\n",
       "Herbal Tea              1037\n",
       "White Tea                591\n",
       "Rooibos Tea              520\n",
       "Black Fruit Blend        397\n",
       "Fruit Herbal Blend       336\n",
       "Black Chai Blend         221\n",
       "Tea                      212\n",
       "Fruit Green Blend        188\n",
       "Fruit Tea                170\n",
       "Matcha Tea               116\n",
       "Herbal Rooibos Blend     108\n",
       "Green Herbal Blend       107\n",
       "Chai Tea                  80\n",
       "Yerba maté Tea            80\n",
       "Fruit White Blend         77\n",
       "Fruit Rooibos Blend       72\n",
       "dtype: int64"
      ]
     },
     "execution_count": 9,
     "metadata": {},
     "output_type": "execute_result"
    }
   ],
   "source": [
    "teaType_count.sort_values(ascending=False)[:20]"
   ]
  },
  {
   "cell_type": "markdown",
   "metadata": {},
   "source": [
    "### One-hot encoding for Brands"
   ]
  },
  {
   "cell_type": "code",
   "execution_count": 10,
   "metadata": {},
   "outputs": [],
   "source": [
    "brand_dummies = pd.get_dummies(tea_df.brand)"
   ]
  },
  {
   "cell_type": "markdown",
   "metadata": {},
   "source": [
    "#### Many invalid inputs in \"Brand\""
   ]
  },
  {
   "cell_type": "code",
   "execution_count": 11,
   "metadata": {},
   "outputs": [
    {
     "data": {
      "text/plain": [
       "1001Kruiden                                                     1\n",
       "365 Organic                                                     1\n",
       ":D                                                              1\n",
       "A Tea Affair                                                    1\n",
       "ABC Tea                                                         1\n",
       "ABC Tea House                                                   1\n",
       "AKA Dwelling                                                    1\n",
       "AMANA                                                           1\n",
       "ASDA                                                            1\n",
       "ASI Tea company                                                 1\n",
       "Aap Ki Pasand                                                   1\n",
       "Adagio Custom Blends, Aun-Juli Riddle                           1\n",
       "Adagio Custom Blends, Brittany Kienke                           1\n",
       "Adagio Custom Blends, Cheryl Yi                                 1\n",
       "Adagio Custom Blends, Elizabeth Lane                            1\n",
       "Adagio Custom Blends, Michelle Bayliss                          1\n",
       "Adagio Custom Blends, Sierra Barlowe                            1\n",
       "Adagio Tea                                                      1\n",
       "Adagion Custom Blends, Kerri Petrie                             1\n",
       "Adamo Tea                                                       1\n",
       "Adventure in Every Cup                                          1\n",
       "Adventures With Tea                                             1\n",
       "Aftelier Perfumed Teas                                          1\n",
       "AiryTea                                                         1\n",
       "Akesson's                                                       1\n",
       "Alaska Wild Teas                                                1\n",
       "Ali Express                                                     1\n",
       "Aliexpress Yunnan Tea King Ltd                                  1\n",
       "Alishan Top Shihjhou Tea                                        1\n",
       "Allegheny Coffee & Tea Exchange                                 1\n",
       "                                                               ..\n",
       "maple taffy                                                     1\n",
       "menghai dayi                                                    1\n",
       "menghai dayi (puerh shop)                                       1\n",
       "organicmulberrytea.com                                          1\n",
       "private selection                                               1\n",
       "royal tea bay                                                   1\n",
       "russian royal tea                                               1\n",
       "savoure.com                                                     1\n",
       "shih chen foods co. ltd                                         1\n",
       "shizuokatea.com                                                 1\n",
       "silk road tea                                                   1\n",
       "t+                                                              1\n",
       "tea at the Gallery                                              1\n",
       "tea-and-coffee (ebay UK)                                        1\n",
       "teaway                                                          1\n",
       "teechino                                                        1\n",
       "tenren's tea                                                    1\n",
       "terre d'Oc                                                      1\n",
       "the Bees Teas                                                   1\n",
       "the tea chest                                                   1\n",
       "unknonwn                                                        1\n",
       "unknown name                                                    1\n",
       "unknown-china                                                   1\n",
       "unkown                                                          1\n",
       "unkown-china                                                    1\n",
       "wedgewood                                                       1\n",
       "Østerlandsk Thehus                                              1\n",
       "Čaj Chai Teahouse                                               1\n",
       "武夷山市奇夏生态茶业有限公司 WuYiShanShi QiXiaShengTai ChaYe YouXIanGongSi    1\n",
       "艺福堂 (Efuton) (purchased from www.green-tea-shop.com)            1\n",
       "Length: 1100, dtype: int64"
      ]
     },
     "execution_count": 11,
     "metadata": {},
     "output_type": "execute_result"
    }
   ],
   "source": [
    "brand_count = brand_dummies.sum(axis=0)\n",
    "brand_count[brand_count==1]"
   ]
  },
  {
   "cell_type": "markdown",
   "metadata": {},
   "source": [
    "### One-hot encoding for Ingredients"
   ]
  },
  {
   "cell_type": "code",
   "execution_count": 12,
   "metadata": {},
   "outputs": [],
   "source": [
    "ingredients_dummy = tea_df.ingredients.str.get_dummies(sep=', ')"
   ]
  },
  {
   "cell_type": "code",
   "execution_count": 13,
   "metadata": {},
   "outputs": [
    {
     "name": "stdout",
     "output_type": "stream",
     "text": [
      "('Number of ingredients in only one tea:', 44)\n"
     ]
    },
    {
     "data": {
      "text/plain": [
       "Organic Chocolate Mint            1\n",
       "Organic Helichrysum Flowers       1\n",
       "Organic Sourenee Second Flush     1\n",
       "Papaya Leaf                       1\n",
       "Candied Macadamia Nuts            1\n",
       "Candied Hazelnuts                 1\n",
       "California Oranges                1\n",
       "Celery Seed                       1\n",
       "Cake Flavor                       1\n",
       "Pink Lotus Flavor                 1\n",
       "Bunny Grahams (Vegan)             1\n",
       "Buffalo Grass                     1\n",
       "Saffron Krokos Kozanis            1\n",
       "Shankpushpi Leaf                  1\n",
       "Black Mission Figs                1\n",
       "Cactus Flowers                    1\n",
       "Billberry Leaf                    1\n",
       "Fleur De Sel                      1\n",
       "Nilgiri Frost Oolong              1\n",
       "English Toffee                    1\n",
       "Goji                              1\n",
       "Dried Tomato                      1\n",
       "Green Peppercorn                  1\n",
       "Dried Cantaloupe                  1\n",
       "Hazelnut Leaves                   1\n",
       "Chewy Caramel                     1\n",
       "Dairy                             1\n",
       "Khongea Golden Tipppy Assam       1\n",
       "Cookies And Cream Flavoring       1\n",
       "Meringue                          1\n",
       "N/A Peach Flavour                 1\n",
       "Natural Cookie Flavor             1\n",
       "Nettle Root                       1\n",
       "Kava Kava Root                    1\n",
       "Bilberries                        1\n",
       "Freeze Dried Cherries             1\n",
       "Toasted Almond                    1\n",
       "Wildcrafted White Pine Needles    1\n",
       "Bartlett Pears                    1\n",
       "Ancho Chili                       1\n",
       "White Rose Petals                 1\n",
       "Yellowdock                        1\n",
       "Yabao                             1\n",
       "White Flowers                     1\n",
       "dtype: int64"
      ]
     },
     "execution_count": 13,
     "metadata": {},
     "output_type": "execute_result"
    }
   ],
   "source": [
    "ingredients_count = ingredients_dummy.sum(axis = 0).sort_values()\n",
    "\n",
    "print(\"Number of ingredients in only one tea:\", ingredients_count[ingredients_count == 1].shape[0])\n",
    "ingredients_count[ingredients_count == 1]"
   ]
  },
  {
   "cell_type": "markdown",
   "metadata": {},
   "source": [
    "### One-hot encoding for Certification"
   ]
  },
  {
   "cell_type": "code",
   "execution_count": 14,
   "metadata": {},
   "outputs": [],
   "source": [
    "certification_dummy = tea_df.certification.str.get_dummies(sep=', ')"
   ]
  },
  {
   "cell_type": "code",
   "execution_count": 15,
   "metadata": {},
   "outputs": [
    {
     "data": {
      "text/plain": [
       "Kosher             272\n",
       "Vegan              301\n",
       "Fair Trade         426\n",
       "Organic           1693\n",
       "Not available    13559\n",
       "dtype: int64"
      ]
     },
     "execution_count": 15,
     "metadata": {},
     "output_type": "execute_result"
    }
   ],
   "source": [
    "certification_count = certification_dummy.sum(axis = 0).sort_values()\n",
    "certification_count"
   ]
  },
  {
   "cell_type": "markdown",
   "metadata": {},
   "source": [
    "### One-hot encoding for Sold In and Caffeine"
   ]
  },
  {
   "cell_type": "code",
   "execution_count": 16,
   "metadata": {},
   "outputs": [],
   "source": [
    "soldIn_caffeine_dummy = pd.get_dummies(tea_df[[\"soldIn\", \"caffeine\"]])"
   ]
  },
  {
   "cell_type": "code",
   "execution_count": 17,
   "metadata": {},
   "outputs": [
    {
     "data": {
      "text/plain": [
       "soldIn_Bulk                                   288\n",
       "soldIn_Bulk, Loose Leaf                       781\n",
       "soldIn_Bulk, Loose Leaf, Sachet                63\n",
       "soldIn_Bulk, Loose Leaf, Sachet, Tea Bag       17\n",
       "soldIn_Bulk, Loose Leaf, Tea Bag               52\n",
       "soldIn_Bulk, Sachet                             4\n",
       "soldIn_Bulk, Sachet, Tea Bag                    4\n",
       "soldIn_Bulk, Tea Bag                           16\n",
       "soldIn_Loose Leaf                            6229\n",
       "soldIn_Loose Leaf, Sachet                     233\n",
       "soldIn_Loose Leaf, Sachet, Tea Bag             25\n",
       "soldIn_Loose Leaf, Tea Bag                    186\n",
       "soldIn_Not available                         6637\n",
       "soldIn_Sachet                                 198\n",
       "soldIn_Sachet, Tea Bag                         13\n",
       "soldIn_Tea Bag                                895\n",
       "caffeine_Caffeine Free                       1386\n",
       "caffeine_Decaffeinated                        124\n",
       "caffeine_High                                 923\n",
       "caffeine_Low                                  785\n",
       "caffeine_Medium                              1655\n",
       "caffeine_Not available                      10768\n",
       "dtype: int64"
      ]
     },
     "execution_count": 17,
     "metadata": {},
     "output_type": "execute_result"
    }
   ],
   "source": [
    "soldIn_caffeine_dummy.sum(axis = 0)"
   ]
  },
  {
   "cell_type": "markdown",
   "metadata": {},
   "source": [
    "### Features Representation"
   ]
  },
  {
   "cell_type": "code",
   "execution_count": 18,
   "metadata": {},
   "outputs": [],
   "source": [
    "tea_df_dummy = pd.concat([tea_df[['reviewCount','ratingValue', 'wantIt', 'ownIt']],\\\n",
    "                          flavor_df, teaType_dummy, ingredients_dummy,\\\n",
    "                          certification_dummy, soldIn_caffeine_dummy, \\\n",
    "                          ], axis = 1)"
   ]
  },
  {
   "cell_type": "code",
   "execution_count": 19,
   "metadata": {},
   "outputs": [
    {
     "data": {
      "text/html": [
       "<div>\n",
       "<style scoped>\n",
       "    .dataframe tbody tr th:only-of-type {\n",
       "        vertical-align: middle;\n",
       "    }\n",
       "\n",
       "    .dataframe tbody tr th {\n",
       "        vertical-align: top;\n",
       "    }\n",
       "\n",
       "    .dataframe thead th {\n",
       "        text-align: right;\n",
       "    }\n",
       "</style>\n",
       "<table border=\"1\" class=\"dataframe\">\n",
       "  <thead>\n",
       "    <tr style=\"text-align: right;\">\n",
       "      <th></th>\n",
       "      <th>reviewCount</th>\n",
       "      <th>ratingValue</th>\n",
       "      <th>wantIt</th>\n",
       "      <th>ownIt</th>\n",
       "      <th>Absinthe</th>\n",
       "      <th>Alcohol</th>\n",
       "      <th>Almond</th>\n",
       "      <th>Anise</th>\n",
       "      <th>Apple</th>\n",
       "      <th>Apple Candy</th>\n",
       "      <th>...</th>\n",
       "      <th>soldIn_Not available</th>\n",
       "      <th>soldIn_Sachet</th>\n",
       "      <th>soldIn_Sachet, Tea Bag</th>\n",
       "      <th>soldIn_Tea Bag</th>\n",
       "      <th>caffeine_Caffeine Free</th>\n",
       "      <th>caffeine_Decaffeinated</th>\n",
       "      <th>caffeine_High</th>\n",
       "      <th>caffeine_Low</th>\n",
       "      <th>caffeine_Medium</th>\n",
       "      <th>caffeine_Not available</th>\n",
       "    </tr>\n",
       "  </thead>\n",
       "  <tbody>\n",
       "    <tr>\n",
       "      <th>0</th>\n",
       "      <td>16.0</td>\n",
       "      <td>89.0</td>\n",
       "      <td>51.0</td>\n",
       "      <td>20.0</td>\n",
       "      <td>0.0</td>\n",
       "      <td>0.0</td>\n",
       "      <td>0.0</td>\n",
       "      <td>0.0</td>\n",
       "      <td>0.0</td>\n",
       "      <td>0.0</td>\n",
       "      <td>...</td>\n",
       "      <td>1</td>\n",
       "      <td>0</td>\n",
       "      <td>0</td>\n",
       "      <td>0</td>\n",
       "      <td>0</td>\n",
       "      <td>0</td>\n",
       "      <td>0</td>\n",
       "      <td>0</td>\n",
       "      <td>0</td>\n",
       "      <td>1</td>\n",
       "    </tr>\n",
       "    <tr>\n",
       "      <th>1</th>\n",
       "      <td>155.0</td>\n",
       "      <td>89.0</td>\n",
       "      <td>315.0</td>\n",
       "      <td>236.0</td>\n",
       "      <td>0.0</td>\n",
       "      <td>0.0</td>\n",
       "      <td>0.0</td>\n",
       "      <td>1.0</td>\n",
       "      <td>0.0</td>\n",
       "      <td>0.0</td>\n",
       "      <td>...</td>\n",
       "      <td>0</td>\n",
       "      <td>0</td>\n",
       "      <td>0</td>\n",
       "      <td>0</td>\n",
       "      <td>0</td>\n",
       "      <td>0</td>\n",
       "      <td>1</td>\n",
       "      <td>0</td>\n",
       "      <td>0</td>\n",
       "      <td>0</td>\n",
       "    </tr>\n",
       "    <tr>\n",
       "      <th>2</th>\n",
       "      <td>6.0</td>\n",
       "      <td>89.0</td>\n",
       "      <td>3.0</td>\n",
       "      <td>4.0</td>\n",
       "      <td>0.0</td>\n",
       "      <td>0.0</td>\n",
       "      <td>0.0</td>\n",
       "      <td>0.0</td>\n",
       "      <td>0.0</td>\n",
       "      <td>0.0</td>\n",
       "      <td>...</td>\n",
       "      <td>0</td>\n",
       "      <td>0</td>\n",
       "      <td>0</td>\n",
       "      <td>0</td>\n",
       "      <td>0</td>\n",
       "      <td>0</td>\n",
       "      <td>0</td>\n",
       "      <td>1</td>\n",
       "      <td>0</td>\n",
       "      <td>0</td>\n",
       "    </tr>\n",
       "    <tr>\n",
       "      <th>3</th>\n",
       "      <td>85.0</td>\n",
       "      <td>89.0</td>\n",
       "      <td>227.0</td>\n",
       "      <td>156.0</td>\n",
       "      <td>0.0</td>\n",
       "      <td>0.0</td>\n",
       "      <td>1.0</td>\n",
       "      <td>0.0</td>\n",
       "      <td>1.0</td>\n",
       "      <td>0.0</td>\n",
       "      <td>...</td>\n",
       "      <td>0</td>\n",
       "      <td>0</td>\n",
       "      <td>0</td>\n",
       "      <td>0</td>\n",
       "      <td>0</td>\n",
       "      <td>0</td>\n",
       "      <td>1</td>\n",
       "      <td>0</td>\n",
       "      <td>0</td>\n",
       "      <td>0</td>\n",
       "    </tr>\n",
       "    <tr>\n",
       "      <th>4</th>\n",
       "      <td>19.0</td>\n",
       "      <td>89.0</td>\n",
       "      <td>11.0</td>\n",
       "      <td>21.0</td>\n",
       "      <td>0.0</td>\n",
       "      <td>0.0</td>\n",
       "      <td>0.0</td>\n",
       "      <td>0.0</td>\n",
       "      <td>0.0</td>\n",
       "      <td>0.0</td>\n",
       "      <td>...</td>\n",
       "      <td>1</td>\n",
       "      <td>0</td>\n",
       "      <td>0</td>\n",
       "      <td>0</td>\n",
       "      <td>0</td>\n",
       "      <td>0</td>\n",
       "      <td>0</td>\n",
       "      <td>0</td>\n",
       "      <td>0</td>\n",
       "      <td>1</td>\n",
       "    </tr>\n",
       "  </tbody>\n",
       "</table>\n",
       "<p>5 rows × 1160 columns</p>\n",
       "</div>"
      ],
      "text/plain": [
       "   reviewCount  ratingValue  wantIt  ownIt  Absinthe  Alcohol  Almond  Anise  \\\n",
       "0         16.0         89.0    51.0   20.0       0.0      0.0     0.0    0.0   \n",
       "1        155.0         89.0   315.0  236.0       0.0      0.0     0.0    1.0   \n",
       "2          6.0         89.0     3.0    4.0       0.0      0.0     0.0    0.0   \n",
       "3         85.0         89.0   227.0  156.0       0.0      0.0     1.0    0.0   \n",
       "4         19.0         89.0    11.0   21.0       0.0      0.0     0.0    0.0   \n",
       "\n",
       "   Apple  Apple Candy           ...            soldIn_Not available  \\\n",
       "0    0.0          0.0           ...                               1   \n",
       "1    0.0          0.0           ...                               0   \n",
       "2    0.0          0.0           ...                               0   \n",
       "3    1.0          0.0           ...                               0   \n",
       "4    0.0          0.0           ...                               1   \n",
       "\n",
       "   soldIn_Sachet  soldIn_Sachet, Tea Bag  soldIn_Tea Bag  \\\n",
       "0              0                       0               0   \n",
       "1              0                       0               0   \n",
       "2              0                       0               0   \n",
       "3              0                       0               0   \n",
       "4              0                       0               0   \n",
       "\n",
       "   caffeine_Caffeine Free  caffeine_Decaffeinated  caffeine_High  \\\n",
       "0                       0                       0              0   \n",
       "1                       0                       0              1   \n",
       "2                       0                       0              0   \n",
       "3                       0                       0              1   \n",
       "4                       0                       0              0   \n",
       "\n",
       "   caffeine_Low  caffeine_Medium  caffeine_Not available  \n",
       "0             0                0                       1  \n",
       "1             0                0                       0  \n",
       "2             1                0                       0  \n",
       "3             0                0                       0  \n",
       "4             0                0                       1  \n",
       "\n",
       "[5 rows x 1160 columns]"
      ]
     },
     "execution_count": 19,
     "metadata": {},
     "output_type": "execute_result"
    }
   ],
   "source": [
    "tea_df_dummy.head()"
   ]
  },
  {
   "cell_type": "code",
   "execution_count": 20,
   "metadata": {},
   "outputs": [],
   "source": [
    "tea_df_dummy.to_csv(\"tea_df_dummy.csv\")"
   ]
  },
  {
   "cell_type": "code",
   "execution_count": 21,
   "metadata": {},
   "outputs": [
    {
     "data": {
      "text/html": [
       "<div>\n",
       "<style scoped>\n",
       "    .dataframe tbody tr th:only-of-type {\n",
       "        vertical-align: middle;\n",
       "    }\n",
       "\n",
       "    .dataframe tbody tr th {\n",
       "        vertical-align: top;\n",
       "    }\n",
       "\n",
       "    .dataframe thead th {\n",
       "        text-align: right;\n",
       "    }\n",
       "</style>\n",
       "<table border=\"1\" class=\"dataframe\">\n",
       "  <thead>\n",
       "    <tr style=\"text-align: right;\">\n",
       "      <th></th>\n",
       "      <th>reviewCount</th>\n",
       "      <th>ratingValue</th>\n",
       "      <th>wantIt</th>\n",
       "      <th>ownIt</th>\n",
       "      <th>Absinthe</th>\n",
       "      <th>Alcohol</th>\n",
       "      <th>Almond</th>\n",
       "      <th>Anise</th>\n",
       "      <th>Apple</th>\n",
       "      <th>Apple Candy</th>\n",
       "      <th>...</th>\n",
       "      <th>soldIn_Not available</th>\n",
       "      <th>soldIn_Sachet</th>\n",
       "      <th>soldIn_Sachet, Tea Bag</th>\n",
       "      <th>soldIn_Tea Bag</th>\n",
       "      <th>caffeine_Caffeine Free</th>\n",
       "      <th>caffeine_Decaffeinated</th>\n",
       "      <th>caffeine_High</th>\n",
       "      <th>caffeine_Low</th>\n",
       "      <th>caffeine_Medium</th>\n",
       "      <th>caffeine_Not available</th>\n",
       "    </tr>\n",
       "  </thead>\n",
       "  <tbody>\n",
       "    <tr>\n",
       "      <th>0</th>\n",
       "      <td>16.0</td>\n",
       "      <td>89.0</td>\n",
       "      <td>51.0</td>\n",
       "      <td>20.0</td>\n",
       "      <td>0.0</td>\n",
       "      <td>0.0</td>\n",
       "      <td>0.0</td>\n",
       "      <td>0.0</td>\n",
       "      <td>0.0</td>\n",
       "      <td>0.0</td>\n",
       "      <td>...</td>\n",
       "      <td>1</td>\n",
       "      <td>0</td>\n",
       "      <td>0</td>\n",
       "      <td>0</td>\n",
       "      <td>0</td>\n",
       "      <td>0</td>\n",
       "      <td>0</td>\n",
       "      <td>0</td>\n",
       "      <td>0</td>\n",
       "      <td>1</td>\n",
       "    </tr>\n",
       "    <tr>\n",
       "      <th>1</th>\n",
       "      <td>155.0</td>\n",
       "      <td>89.0</td>\n",
       "      <td>315.0</td>\n",
       "      <td>236.0</td>\n",
       "      <td>0.0</td>\n",
       "      <td>0.0</td>\n",
       "      <td>0.0</td>\n",
       "      <td>1.0</td>\n",
       "      <td>0.0</td>\n",
       "      <td>0.0</td>\n",
       "      <td>...</td>\n",
       "      <td>0</td>\n",
       "      <td>0</td>\n",
       "      <td>0</td>\n",
       "      <td>0</td>\n",
       "      <td>0</td>\n",
       "      <td>0</td>\n",
       "      <td>1</td>\n",
       "      <td>0</td>\n",
       "      <td>0</td>\n",
       "      <td>0</td>\n",
       "    </tr>\n",
       "    <tr>\n",
       "      <th>2</th>\n",
       "      <td>6.0</td>\n",
       "      <td>89.0</td>\n",
       "      <td>3.0</td>\n",
       "      <td>4.0</td>\n",
       "      <td>0.0</td>\n",
       "      <td>0.0</td>\n",
       "      <td>0.0</td>\n",
       "      <td>0.0</td>\n",
       "      <td>0.0</td>\n",
       "      <td>0.0</td>\n",
       "      <td>...</td>\n",
       "      <td>0</td>\n",
       "      <td>0</td>\n",
       "      <td>0</td>\n",
       "      <td>0</td>\n",
       "      <td>0</td>\n",
       "      <td>0</td>\n",
       "      <td>0</td>\n",
       "      <td>1</td>\n",
       "      <td>0</td>\n",
       "      <td>0</td>\n",
       "    </tr>\n",
       "    <tr>\n",
       "      <th>3</th>\n",
       "      <td>85.0</td>\n",
       "      <td>89.0</td>\n",
       "      <td>227.0</td>\n",
       "      <td>156.0</td>\n",
       "      <td>0.0</td>\n",
       "      <td>0.0</td>\n",
       "      <td>1.0</td>\n",
       "      <td>0.0</td>\n",
       "      <td>1.0</td>\n",
       "      <td>0.0</td>\n",
       "      <td>...</td>\n",
       "      <td>0</td>\n",
       "      <td>0</td>\n",
       "      <td>0</td>\n",
       "      <td>0</td>\n",
       "      <td>0</td>\n",
       "      <td>0</td>\n",
       "      <td>1</td>\n",
       "      <td>0</td>\n",
       "      <td>0</td>\n",
       "      <td>0</td>\n",
       "    </tr>\n",
       "    <tr>\n",
       "      <th>4</th>\n",
       "      <td>19.0</td>\n",
       "      <td>89.0</td>\n",
       "      <td>11.0</td>\n",
       "      <td>21.0</td>\n",
       "      <td>0.0</td>\n",
       "      <td>0.0</td>\n",
       "      <td>0.0</td>\n",
       "      <td>0.0</td>\n",
       "      <td>0.0</td>\n",
       "      <td>0.0</td>\n",
       "      <td>...</td>\n",
       "      <td>1</td>\n",
       "      <td>0</td>\n",
       "      <td>0</td>\n",
       "      <td>0</td>\n",
       "      <td>0</td>\n",
       "      <td>0</td>\n",
       "      <td>0</td>\n",
       "      <td>0</td>\n",
       "      <td>0</td>\n",
       "      <td>1</td>\n",
       "    </tr>\n",
       "  </tbody>\n",
       "</table>\n",
       "<p>5 rows × 1160 columns</p>\n",
       "</div>"
      ],
      "text/plain": [
       "   reviewCount  ratingValue  wantIt  ownIt  Absinthe  Alcohol  Almond  Anise  \\\n",
       "0         16.0         89.0    51.0   20.0       0.0      0.0     0.0    0.0   \n",
       "1        155.0         89.0   315.0  236.0       0.0      0.0     0.0    1.0   \n",
       "2          6.0         89.0     3.0    4.0       0.0      0.0     0.0    0.0   \n",
       "3         85.0         89.0   227.0  156.0       0.0      0.0     1.0    0.0   \n",
       "4         19.0         89.0    11.0   21.0       0.0      0.0     0.0    0.0   \n",
       "\n",
       "   Apple  Apple Candy           ...            soldIn_Not available  \\\n",
       "0    0.0          0.0           ...                               1   \n",
       "1    0.0          0.0           ...                               0   \n",
       "2    0.0          0.0           ...                               0   \n",
       "3    1.0          0.0           ...                               0   \n",
       "4    0.0          0.0           ...                               1   \n",
       "\n",
       "   soldIn_Sachet  soldIn_Sachet, Tea Bag  soldIn_Tea Bag  \\\n",
       "0              0                       0               0   \n",
       "1              0                       0               0   \n",
       "2              0                       0               0   \n",
       "3              0                       0               0   \n",
       "4              0                       0               0   \n",
       "\n",
       "   caffeine_Caffeine Free  caffeine_Decaffeinated  caffeine_High  \\\n",
       "0                       0                       0              0   \n",
       "1                       0                       0              1   \n",
       "2                       0                       0              0   \n",
       "3                       0                       0              1   \n",
       "4                       0                       0              0   \n",
       "\n",
       "   caffeine_Low  caffeine_Medium  caffeine_Not available  \n",
       "0             0                0                       1  \n",
       "1             0                0                       0  \n",
       "2             1                0                       0  \n",
       "3             0                0                       0  \n",
       "4             0                0                       1  \n",
       "\n",
       "[5 rows x 1160 columns]"
      ]
     },
     "execution_count": 21,
     "metadata": {},
     "output_type": "execute_result"
    }
   ],
   "source": [
    "tea_df_dummy.head()"
   ]
  },
  {
   "cell_type": "markdown",
   "metadata": {},
   "source": [
    "### SVD"
   ]
  },
  {
   "cell_type": "code",
   "execution_count": 22,
   "metadata": {},
   "outputs": [],
   "source": [
    "from sklearn.preprocessing import normalize\n",
    "#row normalize\n",
    "temp_matrix = normalize(tea_df_dummy.as_matrix(), axis = 0)\n",
    "svd_matrix = temp_matrix.transpose()"
   ]
  },
  {
   "cell_type": "code",
   "execution_count": 23,
   "metadata": {},
   "outputs": [
    {
     "name": "stdout",
     "output_type": "stream",
     "text": [
      "<type 'numpy.ndarray'>\n",
      "(1160, 15641)\n"
     ]
    }
   ],
   "source": [
    "print(type(svd_matrix))\n",
    "print(svd_matrix.shape)"
   ]
  },
  {
   "cell_type": "code",
   "execution_count": 24,
   "metadata": {},
   "outputs": [
    {
     "data": {
      "text/plain": [
       "array([0.00529861, 0.0092003 , 0.03428883, 0.00491431, 0.        ,\n",
       "       0.        , 0.        , 0.        , 0.        , 0.        ])"
      ]
     },
     "execution_count": 24,
     "metadata": {},
     "output_type": "execute_result"
    }
   ],
   "source": [
    "temp_matrix[0][:10]"
   ]
  },
  {
   "cell_type": "code",
   "execution_count": 25,
   "metadata": {},
   "outputs": [],
   "source": [
    "from scipy.sparse.linalg import svds\n",
    "u, s, v_trans = svds(svd_matrix, k=100)"
   ]
  },
  {
   "cell_type": "code",
   "execution_count": 26,
   "metadata": {},
   "outputs": [
    {
     "data": {
      "image/png": "[encoded data removed]",
      "text/plain": [
       "<matplotlib.figure.Figure at 0x7f9000c725d0>"
      ]
     },
     "metadata": {},
     "output_type": "display_data"
    }
   ],
   "source": [
    "plt.plot(s[::-1])\n",
    "plt.xlabel(\"Singular value number\")\n",
    "plt.ylabel(\"Singular value\")\n",
    "plt.show()"
   ]
  },
  {
   "cell_type": "code",
   "execution_count": 27,
   "metadata": {},
   "outputs": [
    {
     "name": "stdout",
     "output_type": "stream",
     "text": [
      "(1160, 20)\n",
      "(15641, 20)\n"
     ]
    }
   ],
   "source": [
    "predictors_compressed, _, teas_compressed = svds(svd_matrix, k=20)\n",
    "teas_compressed = teas_compressed.transpose()\n",
    "\n",
    "print(predictors_compressed.shape)\n",
    "print(teas_compressed.shape)"
   ]
  },
  {
   "cell_type": "markdown",
   "metadata": {},
   "source": [
    "### project dummy_matrix onto 2D"
   ]
  },
  {
   "cell_type": "code",
   "execution_count": 28,
   "metadata": {},
   "outputs": [],
   "source": [
    "from sklearn.manifold import TSNE"
   ]
  },
  {
   "cell_type": "code",
   "execution_count": 29,
   "metadata": {},
   "outputs": [
    {
     "name": "stdout",
     "output_type": "stream",
     "text": [
      "(15641, 20)\n",
      "[t-SNE] Computing pairwise distances...\n",
      "[t-SNE] Computing 91 nearest neighbors...\n",
      "[t-SNE] Computed conditional probabilities for sample 1000 / 5000\n",
      "[t-SNE] Computed conditional probabilities for sample 2000 / 5000\n",
      "[t-SNE] Computed conditional probabilities for sample 3000 / 5000\n",
      "[t-SNE] Computed conditional probabilities for sample 4000 / 5000\n",
      "[t-SNE] Computed conditional probabilities for sample 5000 / 5000\n",
      "[t-SNE] Mean sigma: 0.003550\n",
      "[t-SNE] KL divergence after 100 iterations with early exaggeration: 1.397243\n",
      "[t-SNE] Error after 325 iterations: 1.397243\n",
      "(5000, 2)\n"
     ]
    }
   ],
   "source": [
    "tsne = TSNE(verbose=1)\n",
    "print(teas_compressed.shape)\n",
    "subset = teas_compressed[:5000, :]\n",
    "projected_teas = tsne.fit_transform(subset)\n",
    "print(projected_teas.shape)"
   ]
  },
  {
   "cell_type": "code",
   "execution_count": 30,
   "metadata": {},
   "outputs": [
    {
     "data": {
      "image/png": "[encoded data removed]",
      "text/plain": [
       "<matplotlib.figure.Figure at 0x7f8ff901e490>"
      ]
     },
     "metadata": {},
     "output_type": "display_data"
    }
   ],
   "source": [
    "plt.figure(figsize=(15,15))\n",
    "plt.scatter(projected_teas[:,0],projected_teas[:,1])\n",
    "plt.show()"
   ]
  },
  {
   "cell_type": "markdown",
   "metadata": {},
   "source": [
    "## Clustering"
   ]
  },
  {
   "cell_type": "code",
   "execution_count": 41,
   "metadata": {},
   "outputs": [],
   "source": [
    "from sklearn import metrics\n",
    "from sklearn.cluster import KMeans\n",
    "from sklearn.datasets import load_digits\n",
    "from sklearn.decomposition import PCA\n",
    "from sklearn.preprocessing import scale\n",
    "from time import time"
   ]
  },
  {
   "cell_type": "code",
   "execution_count": 45,
   "metadata": {},
   "outputs": [],
   "source": [
    "np.random.seed(42)"
   ]
  },
  {
   "cell_type": "code",
   "execution_count": 52,
   "metadata": {},
   "outputs": [],
   "source": [
    "data = scale(tea_df_dummy)"
   ]
  },
  {
   "cell_type": "code",
   "execution_count": 56,
   "metadata": {},
   "outputs": [
    {
     "data": {
      "text/plain": [
       "KMeans(algorithm='auto', copy_x=True, init='k-means++', max_iter=300,\n",
       "    n_clusters=50, n_init=10, n_jobs=1, precompute_distances='auto',\n",
       "    random_state=None, tol=0.0001, verbose=0)"
      ]
     },
     "execution_count": 56,
     "metadata": {},
     "output_type": "execute_result"
    }
   ],
   "source": [
    "kmeans = KMeans(init='k-means++', n_clusters=50, n_init=10)\n",
    "kmeans.fit(data)"
   ]
  },
  {
   "cell_type": "code",
   "execution_count": 57,
   "metadata": {},
   "outputs": [
    {
     "data": {
      "text/plain": [
       "array([16, 11, 32, ..., 20, 11, 20], dtype=int32)"
      ]
     },
     "execution_count": 57,
     "metadata": {},
     "output_type": "execute_result"
    }
   ],
   "source": [
    "kmeans.labels_"
   ]
  },
  {
   "cell_type": "code",
   "execution_count": 58,
   "metadata": {},
   "outputs": [
    {
     "data": {
      "text/plain": [
       "15641"
      ]
     },
     "execution_count": 58,
     "metadata": {},
     "output_type": "execute_result"
    }
   ],
   "source": [
    "len(kmeans.labels_)"
   ]
  },
  {
   "cell_type": "code",
   "execution_count": 178,
   "metadata": {},
   "outputs": [],
   "source": [
    "def kmeans_clustering(dataframe, n_clusters, id_):\n",
    "    '''\n",
    "    We use kmeans clustering to classify similar teas, \n",
    "    each tea has a label showing which cluster this tea belongs to.\n",
    "    params:\n",
    "    dataframe: pd.DataFrame, tea dataframe encoded using dummy variables \n",
    "                (without name, id...)\n",
    "    n_clusters: int, number of clusters to be classified into\n",
    "    id_: pd.Series, id of all teas\n",
    "    \n",
    "    return:\n",
    "    A pd.DataFrame with three features of all teas: 'id', 'label' and 'recommendation'.\n",
    "    'recommendation' is calculated using the sum of normalized value of four features:\n",
    "    'reviewCount','ratingValue','ownIt', 'wantIt'\n",
    "    \n",
    "    '''\n",
    "    from sklearn.cluster import KMeans\n",
    "    from sklearn.preprocessing import scale\n",
    "    np.random.seed(42)\n",
    "    data = scale(dataframe)\n",
    "    kmeans = KMeans(init='k-means++', n_clusters=n_clusters, n_init=10)\n",
    "    kmeans.fit(data)\n",
    "    labels = pd.Series(kmeans.labels_)\n",
    "    df_scores = dataframe[['reviewCount','ratingValue','ownIt', 'wantIt']]\n",
    "    df_recommendation = ((df_scores-df_scores.mean())/df_scores.std()).sum(axis=1)\n",
    "    df = pd.concat([id_, labels, df_recommendation], axis = 1)\n",
    "    df.columns = ['id', 'label','recommendation']\n",
    "    return df"
   ]
  },
  {
   "cell_type": "code",
   "execution_count": 179,
   "metadata": {},
   "outputs": [],
   "source": [
    "id_label_df = kmeans_clustering(tea_df_dummy, 5, tea_df.id)"
   ]
  },
  {
   "cell_type": "code",
   "execution_count": 180,
   "metadata": {},
   "outputs": [
    {
     "data": {
      "text/html": [
       "<div>\n",
       "<style scoped>\n",
       "    .dataframe tbody tr th:only-of-type {\n",
       "        vertical-align: middle;\n",
       "    }\n",
       "\n",
       "    .dataframe tbody tr th {\n",
       "        vertical-align: top;\n",
       "    }\n",
       "\n",
       "    .dataframe thead th {\n",
       "        text-align: right;\n",
       "    }\n",
       "</style>\n",
       "<table border=\"1\" class=\"dataframe\">\n",
       "  <thead>\n",
       "    <tr style=\"text-align: right;\">\n",
       "      <th></th>\n",
       "      <th>id</th>\n",
       "      <th>label</th>\n",
       "      <th>recommendation</th>\n",
       "    </tr>\n",
       "  </thead>\n",
       "  <tbody>\n",
       "    <tr>\n",
       "      <th>0</th>\n",
       "      <td>65303</td>\n",
       "      <td>3</td>\n",
       "      <td>6.927074</td>\n",
       "    </tr>\n",
       "    <tr>\n",
       "      <th>1</th>\n",
       "      <td>43095</td>\n",
       "      <td>2</td>\n",
       "      <td>43.105925</td>\n",
       "    </tr>\n",
       "    <tr>\n",
       "      <th>2</th>\n",
       "      <td>78801</td>\n",
       "      <td>4</td>\n",
       "      <td>1.773889</td>\n",
       "    </tr>\n",
       "    <tr>\n",
       "      <th>3</th>\n",
       "      <td>48058</td>\n",
       "      <td>2</td>\n",
       "      <td>29.738652</td>\n",
       "    </tr>\n",
       "    <tr>\n",
       "      <th>4</th>\n",
       "      <td>32444</td>\n",
       "      <td>3</td>\n",
       "      <td>3.595841</td>\n",
       "    </tr>\n",
       "  </tbody>\n",
       "</table>\n",
       "</div>"
      ],
      "text/plain": [
       "      id  label  recommendation\n",
       "0  65303      3        6.927074\n",
       "1  43095      2       43.105925\n",
       "2  78801      4        1.773889\n",
       "3  48058      2       29.738652\n",
       "4  32444      3        3.595841"
      ]
     },
     "execution_count": 180,
     "metadata": {},
     "output_type": "execute_result"
    }
   ],
   "source": [
    "id_label_df.head()"
   ]
  },
  {
   "cell_type": "code",
   "execution_count": 181,
   "metadata": {},
   "outputs": [],
   "source": [
    "def query_tea_with_same_label(q_id, id_label_df):\n",
    "    '''\n",
    "    This function take a query of tea Id \n",
    "    and return a list of (id, recommendation_score) pairs sorted by \n",
    "    recommendation scores\n",
    "    \n",
    "    params:\n",
    "    q_id: integer, the id of the tea which you want to find teas similar with\n",
    "    id_label_df: pd.DataFrame, a dataframe having\n",
    "                 id, label and recommendation scores of all teas\n",
    "    \n",
    "    return:\n",
    "    list: a list of (id, recommendation_score) pairs which has the same label as q_id \n",
    "            and sorted by their recommendation score\n",
    "    '''\n",
    "    q_label = int(id_label_df.label[id_label_df.id == q_id])\n",
    "    tmp_df = id_label_df[['id','recommendation']][id_label_df.label == q_label].\\\n",
    "        sort_values('recommendation', ascending = False)\n",
    "    return zip(tmp_df['id'].values, tmp_df['recommendation'].values)"
   ]
  },
  {
   "cell_type": "code",
   "execution_count": 182,
   "metadata": {},
   "outputs": [],
   "source": [
    "res_id = query_tea_with_same_label(79043, id_label_df)"
   ]
  },
  {
   "cell_type": "code",
   "execution_count": 183,
   "metadata": {},
   "outputs": [
    {
     "data": {
      "text/plain": [
       "[(29244, 19.286647406455725),\n",
       " (4471, 17.604678541843704),\n",
       " (3285, 17.52056452060517),\n",
       " (5558, 15.37573378224557),\n",
       " (35881, 14.580320580652348),\n",
       " (15175, 14.362133816641943),\n",
       " (20884, 13.91687597713191),\n",
       " (1244, 13.72449377441103),\n",
       " (36387, 13.72314496458822),\n",
       " (23208, 13.512762285484083)]"
      ]
     },
     "execution_count": 183,
     "metadata": {},
     "output_type": "execute_result"
    }
   ],
   "source": [
    "res_id[:10]"
   ]
  },
  {
   "cell_type": "markdown",
   "metadata": {},
   "source": [
    "## Plot"
   ]
  },
  {
   "cell_type": "code",
   "execution_count": 51,
   "metadata": {},
   "outputs": [
    {
     "data": {
      "image/png": "[encoded data removed]",
      "text/plain": [
       "<matplotlib.figure.Figure at 0x7f8ff4c9e650>"
      ]
     },
     "metadata": {},
     "output_type": "display_data"
    }
   ],
   "source": [
    "#reduced_data = PCA(n_components=2).fit_transform(data)\n",
    "reduced_data = projected_teas\n",
    "kmeans = KMeans(init='k-means++', n_clusters=20, n_init=10)\n",
    "kmeans.fit(reduced_data)\n",
    "\n",
    "# Step size of the mesh. Decrease to increase the quality of the VQ.\n",
    "h = .02     # point in the mesh [x_min, x_max]x[y_min, y_max].\n",
    "\n",
    "# Plot the decision boundary. For that, we will assign a color to each\n",
    "x_min, x_max = reduced_data[:, 0].min() - 1, reduced_data[:, 0].max() + 1\n",
    "y_min, y_max = reduced_data[:, 1].min() - 1, reduced_data[:, 1].max() + 1\n",
    "xx, yy = np.meshgrid(np.arange(x_min, x_max, h), np.arange(y_min, y_max, h))\n",
    "\n",
    "# Obtain labels for each point in mesh. Use last trained model.\n",
    "Z = kmeans.predict(np.c_[xx.ravel(), yy.ravel()])\n",
    "\n",
    "# Put the result into a color plot\n",
    "Z = Z.reshape(xx.shape)\n",
    "plt.figure(figsize=(15,15))\n",
    "plt.clf()\n",
    "plt.imshow(Z, interpolation='nearest',\n",
    "           extent=(xx.min(), xx.max(), yy.min(), yy.max()),\n",
    "           cmap=plt.cm.Paired,\n",
    "           aspect='auto', origin='lower')\n",
    "\n",
    "plt.plot(reduced_data[:, 0], reduced_data[:, 1], 'k.', markersize=2)\n",
    "# Plot the centroids as a white X\n",
    "centroids = kmeans.cluster_centers_\n",
    "plt.scatter(centroids[:, 0], centroids[:, 1],\n",
    "            marker='x', s=169, linewidths=3,\n",
    "            color='w', zorder=10)\n",
    "plt.title('K-means clustering (PCA-reduced data)\\n'\n",
    "          'Centroids are marked with white cross')\n",
    "plt.xlim(x_min, x_max)\n",
    "plt.ylim(y_min, y_max)\n",
    "plt.xticks(())\n",
    "plt.yticks(())\n",
    "plt.show()"
   ]
  },
  {
   "cell_type": "code",
   "execution_count": null,
   "metadata": {},
   "outputs": [],
   "source": []
  }
 ],
 "metadata": {
  "kernelspec": {
   "display_name": "Python 2",
   "language": "python",
   "name": "python2"
  },
  "language_info": {
   "codemirror_mode": {
    "name": "ipython",
    "version": 2
   },
   "file_extension": ".py",
   "mimetype": "text/x-python",
   "name": "python",
   "nbconvert_exporter": "python",
   "pygments_lexer": "ipython2",
   "version": "2.7.12"
  }
 },
 "nbformat": 4,
 "nbformat_minor": 2
}
