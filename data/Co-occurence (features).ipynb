{
 "cells": [
  {
   "cell_type": "code",
   "execution_count": 1,
   "metadata": {},
   "outputs": [],
   "source": [
    "import pandas as pd\n",
    "import numpy as np\n",
    "import random\n",
    "import json"
   ]
  },
  {
   "cell_type": "code",
   "execution_count": 2,
   "metadata": {},
   "outputs": [
    {
     "data": {
      "text/plain": [
       "0    Floral, Rainforest, Honeysuckle, Orchids, Pepp...\n",
       "1    Dark Chocolate, Chocolate, Dates, Malt, Orchid...\n",
       "2    Honey, Lemon, Nuts, Flowers, Lemongrass, Super...\n",
       "3    Cocoa, Dark Chocolate, Malt, Vanilla, Apple, A...\n",
       "4    Sweet, Mineral, Nutty, Roasted, Salty, Butter,...\n",
       "Name: features_flavors, dtype: object"
      ]
     },
     "execution_count": 2,
     "metadata": {},
     "output_type": "execute_result"
    }
   ],
   "source": [
    "tea_df = pd.read_csv(\"complete.csv\")\n",
    "tea_df['features_flavors'].head()"
   ]
  },
  {
   "cell_type": "markdown",
   "metadata": {},
   "source": [
    "### Create a list of unique flavors"
   ]
  },
  {
   "cell_type": "code",
   "execution_count": 3,
   "metadata": {},
   "outputs": [
    {
     "name": "stdout",
     "output_type": "stream",
     "text": [
      "Total number of flavors: 1407\n"
     ]
    }
   ],
   "source": [
    "flavors = set()\n",
    "for tea in tea_df['features_flavors']:\n",
    "    if type(tea) == str:\n",
    "        for flavs in tea.split(\",\"):\n",
    "            flavors.add(flavs.strip().title())\n",
    "\n",
    "ordered_flavors = sorted(list(flavors))\n",
    "number_of_flavors = len(flavors)\n",
    "\n",
    "print(\"Total number of flavors:\", number_of_flavors)"
   ]
  },
  {
   "cell_type": "markdown",
   "metadata": {},
   "source": [
    "### Indexing flavors"
   ]
  },
  {
   "cell_type": "code",
   "execution_count": 4,
   "metadata": {},
   "outputs": [
    {
     "name": "stdout",
     "output_type": "stream",
     "text": [
      "Index of Floral: 459 \n",
      "Flavor with index 5: Acai\n"
     ]
    }
   ],
   "source": [
    "flavor_to_index = {}\n",
    "index_to_flavor = {}\n",
    "i = 0\n",
    "for flavor in ordered_flavors:\n",
    "    flavor_to_index[flavor] = i\n",
    "    index_to_flavor[i] = flavor\n",
    "    i += 1\n",
    "    \n",
    "print(\"Index of Floral:\", flavor_to_index[\"Floral\"], \"\\nFlavor with index 5:\", index_to_flavor[4])"
   ]
  },
  {
   "cell_type": "code",
   "execution_count": 5,
   "metadata": {},
   "outputs": [],
   "source": [
    "data = json.dumps(flavor_to_index)\n",
    "with open(\"features_to_index.json\",\"w\") as f:\n",
    "  f.write(data)"
   ]
  },
  {
   "cell_type": "code",
   "execution_count": 6,
   "metadata": {},
   "outputs": [],
   "source": [
    "data = json.dumps(index_to_flavor)\n",
    "with open(\"index_to_features.json\",\"w\") as f:\n",
    "  f.write(data)"
   ]
  },
  {
   "cell_type": "markdown",
   "metadata": {},
   "source": [
    "### Co-occurence Matrix for Flavors"
   ]
  },
  {
   "cell_type": "code",
   "execution_count": 7,
   "metadata": {},
   "outputs": [
    {
     "name": "stdout",
     "output_type": "stream",
     "text": [
      "Co-occurence shape: (1407, 1407)\n"
     ]
    },
    {
     "data": {
      "text/plain": [
       "array([[0., 0., 0., ..., 0., 0., 2.],\n",
       "       [0., 0., 0., ..., 0., 0., 0.],\n",
       "       [0., 0., 0., ..., 0., 0., 0.],\n",
       "       [0., 0., 0., ..., 0., 0., 0.],\n",
       "       [0., 0., 0., ..., 0., 0., 0.]])"
      ]
     },
     "execution_count": 7,
     "metadata": {},
     "output_type": "execute_result"
    }
   ],
   "source": [
    "co_occurence = np.zeros([number_of_flavors, number_of_flavors])\n",
    "\n",
    "for tea in tea_df['features_flavors']:\n",
    "    if type(tea) == str:\n",
    "        flavlist = tea.split(\",\")\n",
    "        for flav1 in range(len(flavlist)):\n",
    "            for flav2 in range(flav1,len(flavlist)):\n",
    "                indx1 = flavor_to_index[flavlist[flav1].strip().title()]\n",
    "                indx2 = flavor_to_index[flavlist[flav2].strip().title()]\n",
    "                co_occurence[indx1][indx2] += 1\n",
    "                co_occurence[indx2][indx1] += 1\n",
    "\n",
    "# Zero diagonal\n",
    "for i in range(number_of_flavors):\n",
    "    co_occurence[i][i] = 0\n",
    "\n",
    "# np.savetxt(\"co_occurence_features.txt\", co_occurence)\n",
    "print(\"Co-occurence shape:\", co_occurence.shape)\n",
    "co_occurence[:5]"
   ]
  },
  {
   "cell_type": "code",
   "execution_count": 8,
   "metadata": {},
   "outputs": [],
   "source": [
    "list = co_occurence.tolist()\n",
    "with open(\"co_oc_features.txt\", \"w\") as output:\n",
    "    output.write(str(list))"
   ]
  },
  {
   "cell_type": "markdown",
   "metadata": {},
   "source": [
    "### Get top K co-occurred flavors given a list of flavors"
   ]
  },
  {
   "cell_type": "code",
   "execution_count": 9,
   "metadata": {},
   "outputs": [
    {
     "name": "stdout",
     "output_type": "stream",
     "text": [
      "Random flavor: Apple\n",
      "Top 5 co-occurred flavors:  ['Cinnamon', 'Sweet', 'Fruity', 'Floral', 'Blend']\n"
     ]
    }
   ],
   "source": [
    "def get_complements(flavors_query, top_x):\n",
    "    random_flavor = random.choice(flavors_query)\n",
    "    print(\"Random flavor:\", random_flavor)\n",
    "    top_flavors = np.argsort(co_occurence[flavor_to_index[random_flavor]][:])[::-1]\n",
    "    return [index_to_flavor[i] for i in top_flavors][:top_x]\n",
    "\n",
    "print(\"Top 5 co-occurred flavors: \", get_complements(['Apple', 'Orange'], 5))"
   ]
  }
 ],
 "metadata": {
  "kernelspec": {
   "display_name": "Python 3",
   "language": "python",
   "name": "python3"
  },
  "language_info": {
   "codemirror_mode": {
    "name": "ipython",
    "version": 3
   },
   "file_extension": ".py",
   "mimetype": "text/x-python",
   "name": "python",
   "nbconvert_exporter": "python",
   "pygments_lexer": "ipython3",
   "version": "3.6.5"
  }
 },
 "nbformat": 4,
 "nbformat_minor": 2
}
