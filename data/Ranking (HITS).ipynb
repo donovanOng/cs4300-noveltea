{
 "cells": [
  {
   "cell_type": "code",
   "execution_count": 1,
   "metadata": {},
   "outputs": [],
   "source": [
    "import pandas as pd\n",
    "import numpy as np\n",
    "import scipy "
   ]
  },
  {
   "cell_type": "markdown",
   "metadata": {},
   "source": [
    "### Only first 10,000 teas in database"
   ]
  },
  {
   "cell_type": "code",
   "execution_count": 2,
   "metadata": {},
   "outputs": [],
   "source": [
    "tea_df = pd.read_csv(\"scraper/clean_data.csv\")\n",
    "tea_df = tea_df[:10000]"
   ]
  },
  {
   "cell_type": "code",
   "execution_count": 3,
   "metadata": {},
   "outputs": [
    {
     "data": {
      "text/html": [
       "<div>\n",
       "<style scoped>\n",
       "    .dataframe tbody tr th:only-of-type {\n",
       "        vertical-align: middle;\n",
       "    }\n",
       "\n",
       "    .dataframe tbody tr th {\n",
       "        vertical-align: top;\n",
       "    }\n",
       "\n",
       "    .dataframe thead th {\n",
       "        text-align: right;\n",
       "    }\n",
       "</style>\n",
       "<table border=\"1\" class=\"dataframe\">\n",
       "  <thead>\n",
       "    <tr style=\"text-align: right;\">\n",
       "      <th></th>\n",
       "      <th>id</th>\n",
       "      <th>review_id</th>\n",
       "      <th>note_id</th>\n",
       "      <th>author</th>\n",
       "      <th>author_url</th>\n",
       "      <th>ratingValue</th>\n",
       "      <th>description</th>\n",
       "      <th>likes</th>\n",
       "    </tr>\n",
       "  </thead>\n",
       "  <tbody>\n",
       "    <tr>\n",
       "      <th>0</th>\n",
       "      <td>41171</td>\n",
       "      <td>144009</td>\n",
       "      <td>200638</td>\n",
       "      <td>JustJames</td>\n",
       "      <td>JustJames</td>\n",
       "      <td>100</td>\n",
       "      <td>&lt;span itemprop=\"description\"&gt; &lt;p&gt;i love this t...</td>\n",
       "      <td>29</td>\n",
       "    </tr>\n",
       "    <tr>\n",
       "      <th>1</th>\n",
       "      <td>41171</td>\n",
       "      <td>145216</td>\n",
       "      <td>204669</td>\n",
       "      <td>Cavocorax</td>\n",
       "      <td>cavocorax</td>\n",
       "      <td>97</td>\n",
       "      <td>&lt;span itemprop=\"description\"&gt; &lt;p&gt;Sigh. Another...</td>\n",
       "      <td>21</td>\n",
       "    </tr>\n",
       "    <tr>\n",
       "      <th>2</th>\n",
       "      <td>41171</td>\n",
       "      <td>146055</td>\n",
       "      <td>235012</td>\n",
       "      <td>VariaTEA</td>\n",
       "      <td>rachel12610</td>\n",
       "      <td>100</td>\n",
       "      <td>&lt;span itemprop=\"description\"&gt; &lt;p&gt;Sipdown!! (17...</td>\n",
       "      <td>22</td>\n",
       "    </tr>\n",
       "    <tr>\n",
       "      <th>3</th>\n",
       "      <td>41171</td>\n",
       "      <td>146628</td>\n",
       "      <td>204422</td>\n",
       "      <td>Sil</td>\n",
       "      <td>Silaena</td>\n",
       "      <td>87</td>\n",
       "      <td>&lt;span itemprop=\"description\"&gt; &lt;p&gt;&lt;strong&gt;justj...</td>\n",
       "      <td>23</td>\n",
       "    </tr>\n",
       "    <tr>\n",
       "      <th>4</th>\n",
       "      <td>74834</td>\n",
       "      <td>267504</td>\n",
       "      <td>366415</td>\n",
       "      <td>Frankdang7</td>\n",
       "      <td>Frankdang7</td>\n",
       "      <td>100</td>\n",
       "      <td>&lt;span itemprop=\"description\"&gt; &lt;p&gt;First oolong ...</td>\n",
       "      <td>0</td>\n",
       "    </tr>\n",
       "  </tbody>\n",
       "</table>\n",
       "</div>"
      ],
      "text/plain": [
       "      id  review_id  note_id      author   author_url ratingValue  \\\n",
       "0  41171     144009   200638   JustJames    JustJames         100   \n",
       "1  41171     145216   204669   Cavocorax    cavocorax          97   \n",
       "2  41171     146055   235012    VariaTEA  rachel12610         100   \n",
       "3  41171     146628   204422         Sil      Silaena          87   \n",
       "4  74834     267504   366415  Frankdang7   Frankdang7         100   \n",
       "\n",
       "                                         description  likes  \n",
       "0  <span itemprop=\"description\"> <p>i love this t...     29  \n",
       "1  <span itemprop=\"description\"> <p>Sigh. Another...     21  \n",
       "2  <span itemprop=\"description\"> <p>Sipdown!! (17...     22  \n",
       "3  <span itemprop=\"description\"> <p><strong>justj...     23  \n",
       "4  <span itemprop=\"description\"> <p>First oolong ...      0  "
      ]
     },
     "execution_count": 3,
     "metadata": {},
     "output_type": "execute_result"
    }
   ],
   "source": [
    "reviews = pd.read_csv(\"./scraper/reviews.csv\")\n",
    "reviews.head()"
   ]
  },
  {
   "cell_type": "code",
   "execution_count": 4,
   "metadata": {},
   "outputs": [
    {
     "data": {
      "text/html": [
       "<div>\n",
       "<style scoped>\n",
       "    .dataframe tbody tr th:only-of-type {\n",
       "        vertical-align: middle;\n",
       "    }\n",
       "\n",
       "    .dataframe tbody tr th {\n",
       "        vertical-align: top;\n",
       "    }\n",
       "\n",
       "    .dataframe thead th {\n",
       "        text-align: right;\n",
       "    }\n",
       "</style>\n",
       "<table border=\"1\" class=\"dataframe\">\n",
       "  <thead>\n",
       "    <tr style=\"text-align: right;\">\n",
       "      <th></th>\n",
       "      <th>id</th>\n",
       "      <th>review_id</th>\n",
       "      <th>note_id</th>\n",
       "      <th>author</th>\n",
       "      <th>author_url</th>\n",
       "      <th>ratingValue</th>\n",
       "      <th>description</th>\n",
       "      <th>likes</th>\n",
       "    </tr>\n",
       "  </thead>\n",
       "  <tbody>\n",
       "    <tr>\n",
       "      <th>0</th>\n",
       "      <td>41171</td>\n",
       "      <td>144009</td>\n",
       "      <td>200638</td>\n",
       "      <td>JustJames</td>\n",
       "      <td>JustJames</td>\n",
       "      <td>100</td>\n",
       "      <td>&lt;span itemprop=\"description\"&gt; &lt;p&gt;i love this t...</td>\n",
       "      <td>29</td>\n",
       "    </tr>\n",
       "    <tr>\n",
       "      <th>1</th>\n",
       "      <td>41171</td>\n",
       "      <td>145216</td>\n",
       "      <td>204669</td>\n",
       "      <td>Cavocorax</td>\n",
       "      <td>cavocorax</td>\n",
       "      <td>97</td>\n",
       "      <td>&lt;span itemprop=\"description\"&gt; &lt;p&gt;Sigh. Another...</td>\n",
       "      <td>21</td>\n",
       "    </tr>\n",
       "    <tr>\n",
       "      <th>2</th>\n",
       "      <td>41171</td>\n",
       "      <td>146055</td>\n",
       "      <td>235012</td>\n",
       "      <td>VariaTEA</td>\n",
       "      <td>rachel12610</td>\n",
       "      <td>100</td>\n",
       "      <td>&lt;span itemprop=\"description\"&gt; &lt;p&gt;Sipdown!! (17...</td>\n",
       "      <td>22</td>\n",
       "    </tr>\n",
       "    <tr>\n",
       "      <th>3</th>\n",
       "      <td>41171</td>\n",
       "      <td>146628</td>\n",
       "      <td>204422</td>\n",
       "      <td>Sil</td>\n",
       "      <td>Silaena</td>\n",
       "      <td>87</td>\n",
       "      <td>&lt;span itemprop=\"description\"&gt; &lt;p&gt;&lt;strong&gt;justj...</td>\n",
       "      <td>23</td>\n",
       "    </tr>\n",
       "    <tr>\n",
       "      <th>5</th>\n",
       "      <td>41171</td>\n",
       "      <td>146906</td>\n",
       "      <td>243707</td>\n",
       "      <td>Stephanie</td>\n",
       "      <td>paradigmamnesia</td>\n",
       "      <td>96</td>\n",
       "      <td>&lt;span itemprop=\"description\"&gt; &lt;p&gt;I should be s...</td>\n",
       "      <td>24</td>\n",
       "    </tr>\n",
       "  </tbody>\n",
       "</table>\n",
       "</div>"
      ],
      "text/plain": [
       "      id  review_id  note_id     author       author_url ratingValue  \\\n",
       "0  41171     144009   200638  JustJames        JustJames         100   \n",
       "1  41171     145216   204669  Cavocorax        cavocorax          97   \n",
       "2  41171     146055   235012   VariaTEA      rachel12610         100   \n",
       "3  41171     146628   204422        Sil          Silaena          87   \n",
       "5  41171     146906   243707  Stephanie  paradigmamnesia          96   \n",
       "\n",
       "                                         description  likes  \n",
       "0  <span itemprop=\"description\"> <p>i love this t...     29  \n",
       "1  <span itemprop=\"description\"> <p>Sigh. Another...     21  \n",
       "2  <span itemprop=\"description\"> <p>Sipdown!! (17...     22  \n",
       "3  <span itemprop=\"description\"> <p><strong>justj...     23  \n",
       "5  <span itemprop=\"description\"> <p>I should be s...     24  "
      ]
     },
     "execution_count": 4,
     "metadata": {},
     "output_type": "execute_result"
    }
   ],
   "source": [
    "reviews = reviews[reviews.id.isin(tea_df.id.unique())]\n",
    "reviews.head()"
   ]
  },
  {
   "cell_type": "code",
   "execution_count": 5,
   "metadata": {},
   "outputs": [
    {
     "data": {
      "text/plain": [
       "(26967, 2)"
      ]
     },
     "execution_count": 5,
     "metadata": {},
     "output_type": "execute_result"
    }
   ],
   "source": [
    "reviews = reviews[['id', 'author_url']] \n",
    "reviews.shape"
   ]
  },
  {
   "cell_type": "code",
   "execution_count": 14,
   "metadata": {},
   "outputs": [],
   "source": [
    "reviews.to_csv(\"./reviews_top_10k.csv\")"
   ]
  },
  {
   "cell_type": "markdown",
   "metadata": {},
   "source": [
    "### Given a list of tea id"
   ]
  },
  {
   "cell_type": "code",
   "execution_count": 6,
   "metadata": {},
   "outputs": [],
   "source": [
    "citrus_floral_ids = [8, 37, 38, 52, 80, 84, 126, 332, 356, 363, 463, 519, 572, 599, 640, 675, 723, 745, 788, 806, 818,\n",
    "                     847, 891, 1023, 1076, 1155, 1158, 1173, 1178, 1198, 1314, 1319, 1416, 1438, 1593, 1644, 1706, 1721,\n",
    "                     1944, 2036, 2315, 2330, 2388, 2398, 2506, 2559, 2570, 2586, 2597, 2606, 2672, 2684, 2780, 2811, 2813,\n",
    "                     3032, 3075, 3148, 3214, 3266, 3351, 3379, 3562, 3695, 3892, 3969, 4133, 4151, 4217, 4286, 4357, 4384,\n",
    "                     4539, 4604, 4627, 4647, 4667, 4775, 4789, 4814, 4843, 4851, 4955, 5161, 5195, 5224, 5239, 5242, 5303,\n",
    "                     5368, 5495, 5514, 5614, 5751, 5843, 5971, 5994, 6072, 6156, 6236, 6257, 6361, 6517, 6585, 6600, 6731,\n",
    "                     6778, 6822, 6898, 6930, 6964, 6981, 7111, 7183, 7240, 7372, 7529, 7679, 7683, 7702, 7758, 7880, 8015,\n",
    "                     8143, 8238, 8241, 8318, 8454, 8541, 8548, 8604, 8627, 8637, 8664, 8829, 9108, 9296, 9338, 9360, 9392,\n",
    "                     9416, 9444, 9537, 9736, 9818, 9853, 9862, 9907, 9934, 9935, 10028, 10055, 10062, 10160, 10170, 10215,\n",
    "                     10303, 10423, 10424, 10443, 10552, 10615, 10798, 10857, 10863, 11003, 11029, 11257, 11325, 11430,\n",
    "                     11434, 11489, 11575, 11667, 11824, 11837, 11892, 11899, 11953, 11954, 12102, 12105, 12140, 12192,\n",
    "                     12193, 12276, 12389, 12561, 12597, 12817, 12839, 12925, 12954, 12966, 13073, 13222, 13326, 13407,\n",
    "                     13424, 13506, 13518, 13544, 13661, 13683, 13751, 13830, 13845, 13862, 13959, 13961, 13964, 14194,\n",
    "                     14207, 14306, 14408, 14429, 14431, 14564, 14665, 14683, 14711, 14732, 14761, 15055, 15068, 15107,\n",
    "                     15180, 15343, 15392, 15408, 15414, 15481, 15503]"
   ]
  },
  {
   "cell_type": "markdown",
   "metadata": {},
   "source": [
    "### Get reviews for these teas"
   ]
  },
  {
   "cell_type": "code",
   "execution_count": 7,
   "metadata": {},
   "outputs": [
    {
     "data": {
      "text/plain": [
       "(125, 2)"
      ]
     },
     "execution_count": 7,
     "metadata": {},
     "output_type": "execute_result"
    }
   ],
   "source": [
    "results = reviews[reviews.id.isin(citrus_floral_ids)]\n",
    "results.shape"
   ]
  },
  {
   "cell_type": "markdown",
   "metadata": {},
   "source": [
    "### Create graph for these teas and their authors"
   ]
  },
  {
   "cell_type": "code",
   "execution_count": 8,
   "metadata": {},
   "outputs": [],
   "source": [
    "import networkx as nx\n",
    "G = nx.from_pandas_edgelist(results, 'author_url', 'id', create_using=nx.DiGraph())"
   ]
  },
  {
   "cell_type": "code",
   "execution_count": 9,
   "metadata": {},
   "outputs": [],
   "source": [
    "import matplotlib.pyplot as plt\n",
    "plt.figure(figsize=(12,5))\n",
    "nx.draw_networkx(G, node_size=10, font_size=9, with_labels=True)"
   ]
  },
  {
   "cell_type": "markdown",
   "metadata": {},
   "source": [
    "### Run HITS algo to get teas ranked"
   ]
  },
  {
   "cell_type": "code",
   "execution_count": 10,
   "metadata": {},
   "outputs": [],
   "source": [
    "h, a = nx.hits(G, max_iter=10000)"
   ]
  },
  {
   "cell_type": "code",
   "execution_count": 11,
   "metadata": {},
   "outputs": [],
   "source": [
    "top_teas = {teaid: a[teaid] for teaid in results.id.unique()}"
   ]
  },
  {
   "cell_type": "code",
   "execution_count": 12,
   "metadata": {},
   "outputs": [
    {
     "data": {
      "text/plain": [
       "{37: 0.252594032977153,\n",
       " 3351: 0.0005905276545525636,\n",
       " 3379: 0.34190864021535794,\n",
       " 4627: 0.15668495015373735,\n",
       " 4814: 0.08038839525476649,\n",
       " 9862: 0.13298184489241885,\n",
       " 11489: 0.025418583299467053,\n",
       " 12102: 0.00943302555254677,\n",
       " 13661: 0.0}"
      ]
     },
     "execution_count": 12,
     "metadata": {},
     "output_type": "execute_result"
    }
   ],
   "source": [
    "top_teas"
   ]
  },
  {
   "cell_type": "code",
   "execution_count": 13,
   "metadata": {},
   "outputs": [
    {
     "data": {
      "text/plain": [
       "[3379, 37, 4627, 9862, 4814, 11489, 12102, 3351, 13661]"
      ]
     },
     "execution_count": 13,
     "metadata": {},
     "output_type": "execute_result"
    }
   ],
   "source": [
    "sorted(top_teas, key=top_teas.get, reverse=True)"
   ]
  }
 ],
 "metadata": {
  "kernelspec": {
   "display_name": "Python 3",
   "language": "python",
   "name": "python3"
  },
  "language_info": {
   "codemirror_mode": {
    "name": "ipython",
    "version": 3
   },
   "file_extension": ".py",
   "mimetype": "text/x-python",
   "name": "python",
   "nbconvert_exporter": "python",
   "pygments_lexer": "ipython3",
   "version": "3.6.5"
  }
 },
 "nbformat": 4,
 "nbformat_minor": 2
}
