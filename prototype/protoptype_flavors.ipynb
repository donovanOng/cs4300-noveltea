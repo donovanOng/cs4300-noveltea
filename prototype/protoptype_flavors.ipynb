{
 "cells": [
  {
   "cell_type": "code",
   "execution_count": 1,
   "metadata": {},
   "outputs": [],
   "source": [
    "import pandas\n",
    "import numpy as np\n",
    "from sklearn.feature_extraction.text import CountVectorizer\n",
    "\n",
    "%matplotlib inline"
   ]
  },
  {
   "cell_type": "code",
   "execution_count": 2,
   "metadata": {},
   "outputs": [],
   "source": [
    "tea_df = pandas.read_csv(\"../data/scraper/clean_data.csv\")"
   ]
  },
  {
   "cell_type": "code",
   "execution_count": 3,
   "metadata": {},
   "outputs": [
    {
     "data": {
      "text/html": [
       "<div>\n",
       "<style scoped>\n",
       "    .dataframe tbody tr th:only-of-type {\n",
       "        vertical-align: middle;\n",
       "    }\n",
       "\n",
       "    .dataframe tbody tr th {\n",
       "        vertical-align: top;\n",
       "    }\n",
       "\n",
       "    .dataframe thead th {\n",
       "        text-align: right;\n",
       "    }\n",
       "</style>\n",
       "<table border=\"1\" class=\"dataframe\">\n",
       "  <thead>\n",
       "    <tr style=\"text-align: right;\">\n",
       "      <th></th>\n",
       "      <th>id</th>\n",
       "      <th>reviewCount</th>\n",
       "      <th>ratingValue</th>\n",
       "      <th>wantIt</th>\n",
       "      <th>ownIt</th>\n",
       "    </tr>\n",
       "  </thead>\n",
       "  <tbody>\n",
       "    <tr>\n",
       "      <th>count</th>\n",
       "      <td>15641.000000</td>\n",
       "      <td>15641.000000</td>\n",
       "      <td>15641.000000</td>\n",
       "      <td>15641.000000</td>\n",
       "      <td>15641.000000</td>\n",
       "    </tr>\n",
       "    <tr>\n",
       "      <th>mean</th>\n",
       "      <td>46950.915862</td>\n",
       "      <td>8.716386</td>\n",
       "      <td>77.140272</td>\n",
       "      <td>3.252222</td>\n",
       "      <td>9.334697</td>\n",
       "    </tr>\n",
       "    <tr>\n",
       "      <th>std</th>\n",
       "      <td>24948.396619</td>\n",
       "      <td>22.517419</td>\n",
       "      <td>5.680778</td>\n",
       "      <td>11.439880</td>\n",
       "      <td>31.174744</td>\n",
       "    </tr>\n",
       "    <tr>\n",
       "      <th>min</th>\n",
       "      <td>2.000000</td>\n",
       "      <td>1.000000</td>\n",
       "      <td>39.000000</td>\n",
       "      <td>0.000000</td>\n",
       "      <td>0.000000</td>\n",
       "    </tr>\n",
       "    <tr>\n",
       "      <th>25%</th>\n",
       "      <td>27788.000000</td>\n",
       "      <td>1.000000</td>\n",
       "      <td>75.000000</td>\n",
       "      <td>0.000000</td>\n",
       "      <td>1.000000</td>\n",
       "    </tr>\n",
       "    <tr>\n",
       "      <th>50%</th>\n",
       "      <td>48504.000000</td>\n",
       "      <td>2.000000</td>\n",
       "      <td>78.000000</td>\n",
       "      <td>0.000000</td>\n",
       "      <td>2.000000</td>\n",
       "    </tr>\n",
       "    <tr>\n",
       "      <th>75%</th>\n",
       "      <td>70482.000000</td>\n",
       "      <td>7.000000</td>\n",
       "      <td>81.000000</td>\n",
       "      <td>2.000000</td>\n",
       "      <td>6.000000</td>\n",
       "    </tr>\n",
       "    <tr>\n",
       "      <th>max</th>\n",
       "      <td>83585.000000</td>\n",
       "      <td>671.000000</td>\n",
       "      <td>89.000000</td>\n",
       "      <td>315.000000</td>\n",
       "      <td>979.000000</td>\n",
       "    </tr>\n",
       "  </tbody>\n",
       "</table>\n",
       "</div>"
      ],
      "text/plain": [
       "                 id   reviewCount   ratingValue        wantIt         ownIt\n",
       "count  15641.000000  15641.000000  15641.000000  15641.000000  15641.000000\n",
       "mean   46950.915862      8.716386     77.140272      3.252222      9.334697\n",
       "std    24948.396619     22.517419      5.680778     11.439880     31.174744\n",
       "min        2.000000      1.000000     39.000000      0.000000      0.000000\n",
       "25%    27788.000000      1.000000     75.000000      0.000000      1.000000\n",
       "50%    48504.000000      2.000000     78.000000      0.000000      2.000000\n",
       "75%    70482.000000      7.000000     81.000000      2.000000      6.000000\n",
       "max    83585.000000    671.000000     89.000000    315.000000    979.000000"
      ]
     },
     "execution_count": 3,
     "metadata": {},
     "output_type": "execute_result"
    }
   ],
   "source": [
    "tea_df.describe()"
   ]
  },
  {
   "cell_type": "markdown",
   "metadata": {},
   "source": [
    "# Vectorize tea flavors"
   ]
  },
  {
   "cell_type": "code",
   "execution_count": 4,
   "metadata": {},
   "outputs": [],
   "source": [
    "flavors = tea_df.flavors.values.tolist() # convert from pandas.core.series.Series to list of flavors\n",
    "\n",
    "def tokenize(text):\n",
    "    return text.lower().split(\", \")"
   ]
  },
  {
   "cell_type": "code",
   "execution_count": 5,
   "metadata": {},
   "outputs": [],
   "source": [
    "count_vec = CountVectorizer(flavors, tokenizer=tokenize)    # create count vectorizer on flavors\n",
    "tea_by_flavors = count_vec.fit_transform(flavors).toarray() # transform count vectorizer to matrix\n",
    "index_to_flavor = {i:str(v) for i, v in enumerate(count_vec.get_feature_names())} # create lookup from index to flavor"
   ]
  },
  {
   "cell_type": "code",
   "execution_count": 6,
   "metadata": {},
   "outputs": [],
   "source": [
    "assert tea_by_flavors.shape == (15641, 359) # 15641 total teas, 359 total flavors"
   ]
  },
  {
   "cell_type": "markdown",
   "metadata": {},
   "source": [
    "# Sample usage"
   ]
  },
  {
   "cell_type": "code",
   "execution_count": 7,
   "metadata": {},
   "outputs": [
    {
     "name": "stdout",
     "output_type": "stream",
     "text": [
      "Results: \n",
      "[0 0 0 0 0 0 0 1 0 0 0 0 0 0 1 0 0 0 0 0 0 0 0 0 0 1 0 0 0 0 0 0 0 0 0 1 1\n",
      " 0 0 0 0 0 1 0 0 1 0 0 0 0 0 0 0 1 1 0 0 0 0 0 0 0 0 0 0 0 1 0 1 0 0 0 0 0\n",
      " 0 0 0 1 0 0 0 0 0 0 0 0 0 0 1 0 0 0 0 1 1 0 0 0 0 0 1 0 0 0 0 1 0 0 0 0 0\n",
      " 0 0 0 0 0 0 0 1 0 0 0 0 0 0 0 0 0 1 0 0 0 0 0 1 0 0 0 0 0 0 0 0 0 0 0 0 0\n",
      " 0 0 0 0 0 0 0 1 0 0 0 0 0 0 0 0 0 0 0 0 0 0 0 0 0 0 0 0 0 0 0 0 0 0 1 0 1\n",
      " 1 0 0 0 0 0 0 0 0 0 0 1 0 0 1 0 0 0 0 0 0 0 0 0 0 0 1 1 1 0 0 0 0 0 0 0 0\n",
      " 0 0 0 0 0 0 0 0 1 0 1 0 0 0 0 0 1 0 0 0 0 0 0 0 0 0 1 0 0 0 0 0 1 0 0 0 0\n",
      " 0 0 0 0 0 1 1 0 1 0 0 0 0 0 0 0 0 0 0 0 0 1 0 0 0 0 0 0 0 0 0 1 0 1 0 0 0\n",
      " 0 0 0 0 0 0 0 0 0 0 0 0 0 0 0 0 1 1 0 0 0 0 0 0 0 0 0 1 0 0 0 1 0 0 0 0 0\n",
      " 1 0 0 0 0 0 0 0 0 0 1 0 0 0 0 0 0 1 0 1 1 0 0 0 0 0]\n",
      "\n",
      "Flavors from results: \n",
      "['apricot', 'baked bread', 'bitter', 'broth', 'brown sugar', 'butter', 'cacao', 'cantaloupe', 'caramel', 'chestnut', 'chocolate', 'cocoa', 'creamy', 'dark bittersweet', 'dark chocolate', 'dried fruit', 'earth', 'floral', 'gardenias', 'grain', 'honey', 'malt', 'maple', 'maple syrup', 'mineral', 'molasses', 'nutty', 'oak wood', 'oats', 'pastries', 'peanut', 'pepper', 'plums', 'raisins', 'roasted', 'roasted barley', 'roasted nuts', 'salt', 'smoke', 'smooth', 'sweet', 'sweet potatoes', 'toast', 'tobacco', 'vanilla', 'wet earth', 'white grapes', 'winter honey', 'wood']\n",
      "\n",
      "From csv: \n",
      "Baked Bread, Chocolate, Malt, Honey, Pastries, Apricot, Butter, Earth, Maple Syrup, Mineral, Molasses, Plums, Smoke, Sweet Potatoes, Toast, Vanilla, Wood, Chestnut, Cocoa, Creamy, Smooth, Sweet, Caramel, Dark Chocolate, Cantaloupe, Grain, Oats, Salt, White Grapes, Floral, Nutty, Roasted, Roasted Barley, Cacao, Broth, Raisins, Gardenias, Maple, Winter Honey, Peanut, Roasted nuts, Tobacco, Pepper, Bitter, Dark Bittersweet, Dried Fruit, Brown Sugar, Oak wood, Wet Earth\n"
     ]
    }
   ],
   "source": [
    "# CAUTION: Use default integer index created by pandas (not id) to access a tea\n",
    "# NOTE: We should probably fix id's to be consecutive.\n",
    "#       They currently are not because we assigned id's before filtering out incomplete data.\n",
    "#       If we fix this, we can safely use id's to access teas, ensuring that tea_df is sorted \n",
    "#       by id ***PRIOR*** to vectorizing.\n",
    "\n",
    "def flavors_from_vector(vectorized_flaves):\n",
    "    flaves = []\n",
    "    for i in range(0, vectorized_flaves.size): # iterate over list of vectorized flavors for given tea\n",
    "        if vectorized_flaves[i] == 1:          # if flavor present in tea\n",
    "            flaves.append(index_to_flavor[i])  # lookup name of flavor and append to list\n",
    "    return flaves                              # return list of names of flavors\n",
    "\n",
    "flaves100 = tea_by_flavors[100]                # get flavors of tea with integer index (NOT ID) #100\n",
    "print(\"Results: \\n\" + str(flaves100))\n",
    "print(\"\\nFlavors from results: \\n\" + str(flavors_from_vector(flaves100)))\n",
    "print(\"\\nFrom csv: \\n\" + tea_df.iloc[100].flavors) # for comparing to actual flavors"
   ]
  },
  {
   "cell_type": "markdown",
   "metadata": {},
   "source": [
    "## Explanation of results\n",
    "Every element in the array represents a flavor. A `1` in position `i` means that the tea conatins flavor `i`. The name of the flavor can then be accessed from the `index_to_flavor` map by doing the following: `index_to_flavor[i]`."
   ]
  }
 ],
 "metadata": {
  "kernelspec": {
   "display_name": "venv",
   "language": "python",
   "name": "venv"
  },
  "language_info": {
   "codemirror_mode": {
    "name": "ipython",
    "version": 2
   },
   "file_extension": ".py",
   "mimetype": "text/x-python",
   "name": "python",
   "nbconvert_exporter": "python",
   "pygments_lexer": "ipython2",
   "version": "2.7.14"
  }
 },
 "nbformat": 4,
 "nbformat_minor": 2
}
